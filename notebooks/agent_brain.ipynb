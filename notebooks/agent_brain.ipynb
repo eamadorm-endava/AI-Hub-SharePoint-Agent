{
 "cells": [
  {
   "cell_type": "markdown",
   "id": "511b1f9d",
   "metadata": {},
   "source": [
    "# AI-Hub SharePoint Agent\n",
    "\n",
    "To create an AI agent that is capable to generate pages in SharePoint, you need to first connect to an LLM, in this case, OpenAI GPT-5 will be used"
   ]
  },
  {
   "cell_type": "markdown",
   "id": "2ea48d75",
   "metadata": {},
   "source": [
    "## Testing Connection to OpenAI API"
   ]
  },
  {
   "cell_type": "markdown",
   "id": "779b0710",
   "metadata": {},
   "source": [
    "OpenAI API needs an API-KEY to work. This is stored in an Azure vault-key"
   ]
  },
  {
   "cell_type": "code",
   "execution_count": 7,
   "id": "bafcbdbf",
   "metadata": {},
   "outputs": [],
   "source": [
    "from openai import OpenAI\n",
    "import re\n",
    "import json\n",
    "import sys\n",
    "sys.path.append(\"..\")\n",
    "\n",
    "from agent.config import AgentConfig"
   ]
  },
  {
   "cell_type": "code",
   "execution_count": 8,
   "id": "00ad6e8c",
   "metadata": {},
   "outputs": [],
   "source": [
    "agent_config = AgentConfig()\n",
    "\n",
    "agent_config.load_secrets()"
   ]
  },
  {
   "cell_type": "markdown",
   "id": "36d760ff",
   "metadata": {},
   "source": [
    "Connecting to the OpenAI API\n",
    "\n",
    "*Code adapted, source [here](https://github.com/openai/openai-python)*"
   ]
  },
  {
   "cell_type": "code",
   "execution_count": 9,
   "id": "2001de21",
   "metadata": {},
   "outputs": [],
   "source": [
    "openai_client = OpenAI(api_key=agent_config.OPENAI_KEY.get_secret_value())"
   ]
  },
  {
   "cell_type": "markdown",
   "id": "142a9bba",
   "metadata": {},
   "source": [
    "The main objective of the LLM is to generate a JSON containing the structure of a SharePoint page based on a specific topic, which will be a parameter"
   ]
  },
  {
   "cell_type": "code",
   "execution_count": 10,
   "id": "1401231e",
   "metadata": {},
   "outputs": [],
   "source": [
    "topic = \"What is an LLM and how it works?\""
   ]
  },
  {
   "cell_type": "code",
   "execution_count": 11,
   "id": "df52d979",
   "metadata": {},
   "outputs": [],
   "source": [
    "response = openai_client.responses.create(\n",
    "    model=\"gpt-4o\",\n",
    "    instructions=\"\"\"\n",
    "    You are a content generation agent specialized in designing modern SharePoint pages for public-facing communication. Your expertise lies in SharePoint layout design and in simplifying complex topics related to artificial intelligence for a general audience.\n",
    "\n",
    "    Your role is to act as a science communicator and visual designer. You will generate the structure and content of a SharePoint page that introduces and explains the topic provided by the user.\n",
    "\n",
    "    The SharePoint page must be:\n",
    "    - Visually engaging\n",
    "    - Easy to understand for non-technical readers\n",
    "    - Structured for clarity and flow\n",
    "\n",
    "    Each page must include:\n",
    "    - A compelling and accessible title\n",
    "    - Multiple sections with clear headers and explanatory content\n",
    "    - Visual resources (e.g., images, diagrams, external links)\n",
    "    - A final summary that reinforces key ideas\n",
    "    - A link to a YouTube video that helps explain the topic further\n",
    "\n",
    "    Output format: JSON with the following fields:\n",
    "    - \"title\": string\n",
    "    - \"sections\": array of objects with \"header\" and \"content\"\n",
    "    - \"visuals\": array of strings (URLs or descriptions)\n",
    "    - \"summary\": string\n",
    "\n",
    "    You will receive a single input:  \n",
    "    **{{topic}}** — the AI-related concept to be explained (e.g., Machine Learning, NLP, Neural Networks, AI Ethics, Azure AI Services, GCP Vertex AI, BigQuery ML).\n",
    "        \"\"\",\n",
    "    input = \"Neural Networks\",\n",
    "    temperature=0.7\n",
    "\n",
    ")"
   ]
  },
  {
   "cell_type": "code",
   "execution_count": 12,
   "id": "efddb024",
   "metadata": {},
   "outputs": [
    {
     "data": {
      "text/plain": [
       "'```json\\n{\\n  \"title\": \"Understanding Neural Networks: The Brains Behind AI\",\\n  \"sections\": [\\n    {\\n      \"header\": \"Introduction to Neural Networks\",\\n      \"content\": \"Neural networks are a class of algorithms inspired by the human brain, designed to recognize patterns and make decisions. They are a key component of many AI technologies, enabling machines to learn from data.\"\\n    },\\n    {\\n      \"header\": \"How Neural Networks Work\",\\n      \"content\": \"A neural network consists of layers of nodes, or \\'neurons.\\' Each neuron receives input, processes it, and passes it to the next layer. The network learns by adjusting the connections between neurons based on the data provided.\"\\n    },\\n    {\\n      \"header\": \"Types of Neural Networks\",\\n      \"content\": \"There are various types of neural networks, including feedforward, convolutional, and recurrent networks, each suited for different tasks such as image recognition, language processing, and time-series prediction.\"\\n    },\\n    {\\n      \"header\": \"Applications of Neural Networks\",\\n      \"content\": \"Neural networks are used in various fields, from self-driving cars and facial recognition to medical diagnosis and financial forecasting. They help machines to \\'think\\' and make decisions like humans.\"\\n    },\\n    {\\n      \"header\": \"Challenges and Considerations\",\\n      \"content\": \"While powerful, neural networks require large amounts of data and computational power. They can also be difficult to interpret, leading to challenges in understanding how decisions are made.\"\\n    }\\n  ],\\n  \"visuals\": [\\n    \"https://example.com/neural-network-diagram.png\",\\n    \"https://example.com/neural-network-types.jpg\",\\n    \"Diagram showing neurons and connections in a neural network\"\\n  ],\\n  \"summary\": \"Neural networks are a foundational technology in artificial intelligence, enabling machines to learn and make decisions by mimicking the human brain. They are versatile and powerful but come with challenges that require careful consideration.\",\\n  \"video\": \"https://www.youtube.com/watch?v=aircAruvnKk\"\\n}\\n```'"
      ]
     },
     "execution_count": 12,
     "metadata": {},
     "output_type": "execute_result"
    }
   ],
   "source": [
    "response.output_text"
   ]
  },
  {
   "cell_type": "code",
   "execution_count": 13,
   "id": "a2505d0a",
   "metadata": {},
   "outputs": [],
   "source": [
    "def parse_openai_json(text: str) -> dict:\n",
    "    \"\"\"\n",
    "    Parses the text generated by OpenAI and returns a dict with the JSON.\n",
    "    Removes code block delimiters and unnecessary spaces.\n",
    "\n",
    "    Args:\n",
    "        text (str): The text generated by OpenAI, possibly containing JSON inside code block delimiters.\n",
    "\n",
    "    Returns:\n",
    "        dict: The parsed JSON as a Python dictionary.\n",
    "\"\"\"\n",
    "    # Elimina delimitadores de bloque de código (```json ... ```)\n",
    "    match = re.search(r\"```json\\s*(\\{.*\\})\\s*```\", text, re.DOTALL)\n",
    "    if match:\n",
    "        json_str = match.group(1)\n",
    "    else:\n",
    "        # Si no hay delimitadores, intenta buscar el primer objeto JSON\n",
    "        match = re.search(r\"(\\{.*\\})\", text, re.DOTALL)\n",
    "        if match:\n",
    "            json_str = match.group(1)\n",
    "        else:\n",
    "            raise ValueError(\"No se encontró un bloque JSON válido en el texto.\")\n",
    "\n",
    "    return json.loads(json_str)"
   ]
  },
  {
   "cell_type": "code",
   "execution_count": 14,
   "id": "9f73831d",
   "metadata": {},
   "outputs": [],
   "source": [
    "parsed_json = parse_openai_json(response.output_text)"
   ]
  },
  {
   "cell_type": "code",
   "execution_count": 15,
   "id": "e7c8150a",
   "metadata": {},
   "outputs": [
    {
     "data": {
      "text/plain": [
       "{'title': 'Understanding Neural Networks: The Brains Behind AI',\n",
       " 'sections': [{'header': 'Introduction to Neural Networks',\n",
       "   'content': 'Neural networks are a class of algorithms inspired by the human brain, designed to recognize patterns and make decisions. They are a key component of many AI technologies, enabling machines to learn from data.'},\n",
       "  {'header': 'How Neural Networks Work',\n",
       "   'content': \"A neural network consists of layers of nodes, or 'neurons.' Each neuron receives input, processes it, and passes it to the next layer. The network learns by adjusting the connections between neurons based on the data provided.\"},\n",
       "  {'header': 'Types of Neural Networks',\n",
       "   'content': 'There are various types of neural networks, including feedforward, convolutional, and recurrent networks, each suited for different tasks such as image recognition, language processing, and time-series prediction.'},\n",
       "  {'header': 'Applications of Neural Networks',\n",
       "   'content': \"Neural networks are used in various fields, from self-driving cars and facial recognition to medical diagnosis and financial forecasting. They help machines to 'think' and make decisions like humans.\"},\n",
       "  {'header': 'Challenges and Considerations',\n",
       "   'content': 'While powerful, neural networks require large amounts of data and computational power. They can also be difficult to interpret, leading to challenges in understanding how decisions are made.'}],\n",
       " 'visuals': ['https://example.com/neural-network-diagram.png',\n",
       "  'https://example.com/neural-network-types.jpg',\n",
       "  'Diagram showing neurons and connections in a neural network'],\n",
       " 'summary': 'Neural networks are a foundational technology in artificial intelligence, enabling machines to learn and make decisions by mimicking the human brain. They are versatile and powerful but come with challenges that require careful consideration.',\n",
       " 'video': 'https://www.youtube.com/watch?v=aircAruvnKk'}"
      ]
     },
     "execution_count": 15,
     "metadata": {},
     "output_type": "execute_result"
    }
   ],
   "source": [
    "parsed_json"
   ]
  }
 ],
 "metadata": {
  "kernelspec": {
   "display_name": "ai-hub-sharepoint-agent",
   "language": "python",
   "name": "python3"
  },
  "language_info": {
   "codemirror_mode": {
    "name": "ipython",
    "version": 3
   },
   "file_extension": ".py",
   "mimetype": "text/x-python",
   "name": "python",
   "nbconvert_exporter": "python",
   "pygments_lexer": "ipython3",
   "version": "3.12.1"
  }
 },
 "nbformat": 4,
 "nbformat_minor": 5
}
