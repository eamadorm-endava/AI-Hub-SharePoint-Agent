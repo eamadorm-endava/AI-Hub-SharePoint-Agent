{
 "cells": [
  {
   "cell_type": "markdown",
   "id": "8f2e4719",
   "metadata": {},
   "source": [
    "# AI-News Extraction\n",
    "\n",
    "The idea is extract news data from different links, the data that must be obtained is:\n",
    "\n",
    "- Title\n",
    "- Publish date\n",
    "- Link to news\n",
    "- Link to image"
   ]
  },
  {
   "cell_type": "code",
   "execution_count": 1,
   "id": "38e7087e",
   "metadata": {},
   "outputs": [],
   "source": [
    "import requests\n",
    "from bs4 import BeautifulSoup\n",
    "import feedparser\n",
    "from datetime import datetime, timezone"
   ]
  },
  {
   "cell_type": "markdown",
   "id": "6c7253f9",
   "metadata": {},
   "source": [
    "## News extraction from [AINEWS page](https://www.artificialintelligence-news.com/)"
   ]
  },
  {
   "cell_type": "code",
   "execution_count": 2,
   "id": "413382ae",
   "metadata": {},
   "outputs": [
    {
     "data": {
      "text/plain": [
       "[{'title': 'AI causes reduction in users’ brain activity – MIT',\n",
       "  'news_link': 'https://www.artificialintelligence-news.com/news/ai-causes-reduction-in-users-brain-activity-mit/',\n",
       "  'date': 'Wed, 01 Oct 2025 13:44:30 +0000',\n",
       "  'summary': '<p>A study from MIT (Massachusetts Institute of Technology) has found that the human brain not only works less hard when using an LLM, but its effects continue, negatively affecting mental activity in future work. The researchers used a limited number of subjects for their experiments (a limitation stated in the paper [PDF]), who were asked [&#8230;]</p>\\n<p>The post <a href=\"https://www.artificialintelligence-news.com/news/ai-causes-reduction-in-users-brain-activity-mit/\">AI causes reduction in users’ brain activity – MIT</a> appeared first on <a href=\"https://www.artificialintelligence-news.com\">AI News</a>.</p>'},\n",
       " {'title': 'The 5 best AI AppSec tools in 2025',\n",
       "  'news_link': 'https://www.artificialintelligence-news.com/news/the-5-best-ai-appsec-tools-in-2025/',\n",
       "  'date': 'Wed, 01 Oct 2025 12:09:36 +0000',\n",
       "  'summary': '<p>Guest author: Or Hillel, Green Lamp Applications have become the foundation of how organisations deliver services, connect with customers, and manage important operations. Every transaction, interaction, and workflow runs on a web app, mobile interface, or API. That central role has made applications one of the most attractive and frequently-targeted points of entry for attackers. [&#8230;]</p>\\n<p>The post <a href=\"https://www.artificialintelligence-news.com/news/the-5-best-ai-appsec-tools-in-2025/\">The 5 best AI AppSec tools in 2025</a> appeared first on <a href=\"https://www.artificialintelligence-news.com\">AI News</a>.</p>'},\n",
       " {'title': 'Why AI phishing detection will define cybersecurity in 2026',\n",
       "  'news_link': 'https://www.artificialintelligence-news.com/news/why-ai-phishing-detection-will-define-cybersecurity-in-2026/',\n",
       "  'date': 'Wed, 01 Oct 2025 10:07:59 +0000',\n",
       "  'summary': '<p>Reuters recently published a joint experiment with Harvard, where they asked popular AI chatbots like Grok, ChatGPT, DeepSeek, and others to craft the &#8220;perfect phishing email.&#8221; The generated emails were then sent to 108 volunteers, of whom 11% clicked on the malicious links. With one simple prompt, the researchers were armed with highly persuasive messages [&#8230;]</p>\\n<p>The post <a href=\"https://www.artificialintelligence-news.com/news/why-ai-phishing-detection-will-define-cybersecurity-in-2026/\">Why AI phishing detection will define cybersecurity in 2026</a> appeared first on <a href=\"https://www.artificialintelligence-news.com\">AI News</a>.</p>'},\n",
       " {'title': 'Google: EU’s AI adoption lags China amid regulatory hurdles',\n",
       "  'news_link': 'https://www.artificialintelligence-news.com/news/google-eu-ai-adoption-lags-china-amid-regulatory-hurdles/',\n",
       "  'date': 'Wed, 01 Oct 2025 09:54:47 +0000',\n",
       "  'summary': '<p>Google’s President of Global Affairs, Kent Walker, has urged the EU to increase AI adoption through a smarter regulatory approach amid increasing competition, particularly from China. Speaking at the Competitive Europe Summit in Brussels, Walker positioned AI as a tool that philosophers and economists call an “invention of a method of invention” which will reshape [&#8230;]</p>\\n<p>The post <a href=\"https://www.artificialintelligence-news.com/news/google-eu-ai-adoption-lags-china-amid-regulatory-hurdles/\">Google: EU&#8217;s AI adoption lags China amid regulatory hurdles</a> appeared first on <a href=\"https://www.artificialintelligence-news.com\">AI News</a>.</p>'},\n",
       " {'title': 'The value gap from AI investments is widening dangerously fast',\n",
       "  'news_link': 'https://www.artificialintelligence-news.com/news/value-gap-ai-investments-widening-dangerously-fast/',\n",
       "  'date': 'Tue, 30 Sep 2025 12:35:19 +0000',\n",
       "  'summary': '<p>Boston Consulting Group (BCG) has found a widening chasm separating an elite of AI masters from the majority of firms struggling to generate any value from their AI investments. A study from BCG found that a mere five percent of companies are successfully achieving bottom-line value from AI at scale. In sharp contrast, 60 percent [&#8230;]</p>\\n<p>The post <a href=\"https://www.artificialintelligence-news.com/news/value-gap-ai-investments-widening-dangerously-fast/\">The value gap from AI investments is widening dangerously fast</a> appeared first on <a href=\"https://www.artificialintelligence-news.com\">AI News</a>.</p>'},\n",
       " {'title': 'The rise of algorithmic agriculture? AI steps in',\n",
       "  'news_link': 'https://www.artificialintelligence-news.com/news/the-rise-of-algorithmic-agriculture-ai-steps-in/',\n",
       "  'date': 'Tue, 30 Sep 2025 11:07:47 +0000',\n",
       "  'summary': '<p>AI is the cream of the crop in today&#8217;s tech field, with industries relying on generative AI to improve operations and boost productivity. One sector that using AI with measurable results is agriculture, with vegetable seed companies harnessing the technology to identify the best vegetable varieties out of thousands of options. This facility can help [&#8230;]</p>\\n<p>The post <a href=\"https://www.artificialintelligence-news.com/news/the-rise-of-algorithmic-agriculture-ai-steps-in/\">The rise of algorithmic agriculture? AI steps in</a> appeared first on <a href=\"https://www.artificialintelligence-news.com\">AI News</a>.</p>'},\n",
       " {'title': 'Inside Huawei’s Shanghai acoustics lab: Where automotive sound engineering meets science',\n",
       "  'news_link': 'https://www.artificialintelligence-news.com/news/huawei-automotive-sound-engineering-lab-shanghai/',\n",
       "  'date': 'Tue, 30 Sep 2025 08:30:00 +0000',\n",
       "  'summary': '<p>Walking into Huawei&#8217;s Shanghai Acoustics R&#38;D Centre, I expected a standard facility tour. What I encountered instead was a comprehensive automotive sound engineering operation that challenges the established order of in-car audio systems. The facility, which Huawei has developed since beginning serious audio research investments in 2012, houses three distinct testing environments: a fully anechoic [&#8230;]</p>\\n<p>The post <a href=\"https://www.artificialintelligence-news.com/news/huawei-automotive-sound-engineering-lab-shanghai/\">Inside Huawei&#8217;s Shanghai acoustics lab: Where automotive sound engineering meets science</a> appeared first on <a href=\"https://www.artificialintelligence-news.com\">AI News</a>.</p>'},\n",
       " {'title': 'Rising AI demands push Asia Pacific data centres to adapt, says Vertiv',\n",
       "  'news_link': 'https://www.artificialintelligence-news.com/news/rising-ai-demands-push-asia-pacific-data-centres-to-adapt/',\n",
       "  'date': 'Tue, 30 Sep 2025 08:15:55 +0000',\n",
       "  'summary': '<p>As more companies in Asia Pacific adopt artificial intelligence to boost their operations, the pressure on data centres is growing fast. Traditional facilities, built for earlier generations of computing, are struggling to keep up with the heavy energy use and cooling demands of modern AI systems. By 2030, GPU-driven workloads could push rack power densities [&#8230;]</p>\\n<p>The post <a href=\"https://www.artificialintelligence-news.com/news/rising-ai-demands-push-asia-pacific-data-centres-to-adapt/\">Rising AI demands push Asia Pacific data centres to adapt, says Vertiv</a> appeared first on <a href=\"https://www.artificialintelligence-news.com\">AI News</a>.</p>'},\n",
       " {'title': 'Reply’s pre-built AI apps aim to fast-track AI adoption',\n",
       "  'news_link': 'https://www.artificialintelligence-news.com/news/replys-pre-built-ai-apps-aim-to-fast-track-ai-adoption/',\n",
       "  'date': 'Tue, 30 Sep 2025 08:13:03 +0000',\n",
       "  'summary': '<p>Adopting AI at scale can be difficult. Enterprises around the world are discovering the pace of AI deployment is frustratingly slow as they face implementation, integration, and customisation challenges. Generative AI is undoubtedly powerful, but it can be complex, particularly for businesses starting from scratch. To help organisations overcome the hurdles associated with AI adoption, [&#8230;]</p>\\n<p>The post <a href=\"https://www.artificialintelligence-news.com/news/replys-pre-built-ai-apps-aim-to-fast-track-ai-adoption/\">Reply&#8217;s pre-built AI apps aim to fast-track AI adoption</a> appeared first on <a href=\"https://www.artificialintelligence-news.com\">AI News</a>.</p>'},\n",
       " {'title': 'Huawei details open-source AI development roadmap at Huawei Connect 2025',\n",
       "  'news_link': 'https://www.artificialintelligence-news.com/news/huawei-open-source-ai-development-platform-technical-specs/',\n",
       "  'date': 'Mon, 29 Sep 2025 08:34:34 +0000',\n",
       "  'summary': '<p>Open-source AI development took centre stage at Huawei Connect 2025 last week, with Huawei laying out implementation timelines and the technical specifics around making its entire AI software stack publicly available by year-end. The announcements came with context that matters to developers: frank acknowledgement of past friction, specific commitments about what components will be released, [&#8230;]</p>\\n<p>The post <a href=\"https://www.artificialintelligence-news.com/news/huawei-open-source-ai-development-platform-technical-specs/\">Huawei details open-source AI development roadmap at Huawei Connect 2025</a> appeared first on <a href=\"https://www.artificialintelligence-news.com\">AI News</a>.</p>'},\n",
       " {'title': 'CAMIA privacy attack reveals what AI models memorise',\n",
       "  'news_link': 'https://www.artificialintelligence-news.com/news/camia-privacy-attack-reveals-what-ai-models-memorise/',\n",
       "  'date': 'Fri, 26 Sep 2025 17:17:55 +0000',\n",
       "  'summary': '<p>Researchers have developed a new attack that reveals privacy vulnerabilities by determining whether your data was used to train AI models. The method, named CAMIA (Context-Aware Membership Inference Attack), was developed by researchers from Brave and the National University of Singapore and is far more effective than previous attempts at probing the &#8216;memory&#8217; of AI [&#8230;]</p>\\n<p>The post <a href=\"https://www.artificialintelligence-news.com/news/camia-privacy-attack-reveals-what-ai-models-memorise/\">CAMIA privacy attack reveals what AI models memorise</a> appeared first on <a href=\"https://www.artificialintelligence-news.com\">AI News</a>.</p>'},\n",
       " {'title': 'Ethical cybersecurity practice reshapes enterprise security in 2025',\n",
       "  'news_link': 'https://www.artificialintelligence-news.com/news/manageengine-ethical-cybersecurity-2025/',\n",
       "  'date': 'Fri, 26 Sep 2025 08:20:45 +0000',\n",
       "  'summary': '<p>When ransomware attacks like Akira and Ryuk began crippling organisations worldwide, the cybersecurity industry&#8217;s first instinct was predictable: build bigger walls, deploy more aggressive automated responses, and lock down everything. But there was a different problem emerging, according to Romanus Prabhu Raymond, Director of Technology at ManageEngine. The company&#8217;s customers were demanding aggressive containment features, [&#8230;]</p>\\n<p>The post <a href=\"https://www.artificialintelligence-news.com/news/manageengine-ethical-cybersecurity-2025/\">Ethical cybersecurity practice reshapes enterprise security in 2025</a> appeared first on <a href=\"https://www.artificialintelligence-news.com\">AI News</a>.</p>'}]"
      ]
     },
     "execution_count": 2,
     "metadata": {},
     "output_type": "execute_result"
    }
   ],
   "source": [
    "rss_url = \"https://www.artificialintelligence-news.com/artificial-intelligence-news/feed/\" # link to RSS feed\n",
    "feed = feedparser.parse(rss_url)\n",
    "\n",
    "# Extract relevant data from feed entries\n",
    "ai_news = [\n",
    "    {\n",
    "        \"title\": entry.title,\n",
    "        \"news_link\": entry.link,\n",
    "        \"date\": entry.published,\n",
    "        \"summary\": entry.summary\n",
    "    }\n",
    "    for entry in feed.entries\n",
    "    ]\n",
    "\n",
    "ai_news"
   ]
  },
  {
   "cell_type": "markdown",
   "id": "83e0dcc1",
   "metadata": {},
   "source": [
    "As an image of the news is also required, but feedparser does not provide it, the image will be extracted directly from the link of the news"
   ]
  },
  {
   "cell_type": "code",
   "execution_count": 5,
   "id": "ed75f21e",
   "metadata": {},
   "outputs": [
    {
     "data": {
      "text/plain": [
       "'https://www.artificialintelligence-news.com/wp-content/uploads/2025/09/Untitled-design-73-1024x573.png'"
      ]
     },
     "execution_count": 5,
     "metadata": {},
     "output_type": "execute_result"
    }
   ],
   "source": [
    "url = \"https://www.artificialintelligence-news.com/news/the-5-best-ai-appsec-tools-in-2025/\"\n",
    "headers = {\n",
    "    \"User-Agent\": \"Mozilla/5.0 (Windows NT 10.0; Win64; x64) AppleWebKit/537.36 (KHTML, like Gecko) Chrome/115.0.0.0 Safari/537.36\"\n",
    "}\n",
    "\n",
    "try:\n",
    "    response = requests.get(url, headers=headers, timeout=10)\n",
    "    response.raise_for_status()\n",
    "except requests.RequestException as e:\n",
    "    print(f\"Error fetching page: {e}\")\n",
    "\n",
    "soup = BeautifulSoup(response.content, 'html.parser')\n",
    "\n",
    "all_containers = soup.select('.elementor-widget-container')\n",
    "\n",
    "containers_with_images = [c for c in all_containers if c.find('img')]\n",
    "image = [container.find('img').get(\"src\") for container in containers_with_images if container.find('img').get('width') == '800'][0]\n",
    "\n",
    "image\n"
   ]
  },
  {
   "cell_type": "markdown",
   "id": "c7ab4c2b",
   "metadata": {},
   "source": [
    "## Defining functions to extract all the AI-News information"
   ]
  },
  {
   "cell_type": "markdown",
   "id": "2e2cd4f2",
   "metadata": {},
   "source": [
    "As the date obtained from the feed is in the format 'Tue, 30 Sep 2025 11:07:47 +0000', it is required to convert it to '%Y-%m-%d %H:%M:%SZ'"
   ]
  },
  {
   "cell_type": "code",
   "execution_count": 3,
   "id": "eb145d8d",
   "metadata": {},
   "outputs": [],
   "source": [
    "def format_date(date_str: str) -> str:\n",
    "    \"\"\"\n",
    "    Format a RFC 2822 date string to ISO 8601 format with 'Z' suffix.\n",
    "\n",
    "    Args:\n",
    "        date_str (str): Date string in RFC 2822 format (e.g., 'Fri 09 Oct 2020 14:19:00 +0000').\n",
    "    \n",
    "    Returns:\n",
    "        str: Date string in ISO 8601 format (e.g., '2020-10-09 14:19:00Z').\n",
    "    \"\"\"\n",
    "    if not isinstance(date_str, str):\n",
    "        raise ValueError(\"Input must be a string in the format '%a, %d %b %Y %H:%M:%S %z' (e.g.: 'Fri 09 Oct 2020 14:19:00 +0000').\")\n",
    "    \n",
    "    # Parsear la fecha RFC 2822\n",
    "    dt = datetime.strptime(date_str, r'%a, %d %b %Y %H:%M:%S %z')\n",
    "    # Convertir a formato ISO 8601 con sufijo Z\n",
    "    return dt.strftime(r'%Y-%m-%d %H:%M:%SZ')"
   ]
  },
  {
   "cell_type": "code",
   "execution_count": 13,
   "id": "41127db7",
   "metadata": {},
   "outputs": [],
   "source": [
    "def extract_news_image(news_url: str) -> str:\n",
    "    \"\"\"\n",
    "    Extract the main image URL from a news article page.\n",
    "\n",
    "    Args:\n",
    "        news_url (str): URL of the news article.\n",
    "    \n",
    "    Returns:\n",
    "        str: URL of the main image in the article.\n",
    "    \"\"\"\n",
    "    if not isinstance(news_url, str):\n",
    "        raise ValueError(\"Input must be a string representing the news article URL.\")\n",
    "    \n",
    "    headers = {\n",
    "    \"User-Agent\": \"Mozilla/5.0 (Windows NT 10.0; Win64; x64) AppleWebKit/537.36 (KHTML, like Gecko) Chrome/115.0.0.0 Safari/537.36\"\n",
    "    }\n",
    "\n",
    "    try:\n",
    "        response = requests.get(news_url, headers=headers, timeout=10)\n",
    "        response.raise_for_status()\n",
    "    except requests.RequestException as e:\n",
    "        print(f\"Error fetching page: {e}\")\n",
    "\n",
    "    soup = BeautifulSoup(response.content, 'html.parser')\n",
    "\n",
    "    all_containers = soup.select('.elementor-widget-container')\n",
    "\n",
    "    containers_with_images = [c for c in all_containers if c.find('img')]\n",
    "    return [container.find('img').get(\"src\") for container in containers_with_images if container.find('img').get('width') == '800'][0]\n",
    "    "
   ]
  },
  {
   "cell_type": "code",
   "execution_count": null,
   "id": "80d54d67",
   "metadata": {},
   "outputs": [],
   "source": [
    "def retrieve_ai_news(url: str) -> list[dict]:\n",
    "    \"\"\"\n",
    "    Retrieve AI news from the given RSS feed URL.\n",
    "\n",
    "    Args:\n",
    "        url (str): URL of the RSS feed.\n",
    "\n",
    "    Returns:\n",
    "        list[dict]: List of dictionaries containing news details.    \n",
    "    \"\"\"\n",
    "    if not isinstance(url, str):\n",
    "        raise ValueError(\"Input must be a string representing the RSS feed URL.\")\n",
    "    feed = feedparser.parse(rss_url)\n",
    "\n",
    "    # Extract relevant data from feed entries\n",
    "    ai_news = [\n",
    "        {\n",
    "            \"title\": entry.title,\n",
    "            \"news_link\": entry.link,\n",
    "            \"publish_date\": format_date(entry.published),\n",
    "            \"image_link\": extract_news_image(entry.link),\n",
    "            \"summary\": entry.summary\n",
    "        }\n",
    "        for entry in feed.entries\n",
    "        ]\n",
    "\n",
    "    return ai_news"
   ]
  },
  {
   "cell_type": "code",
   "execution_count": 14,
   "id": "5da22a03",
   "metadata": {},
   "outputs": [
    {
     "data": {
      "text/plain": [
       "[{'title': 'AI causes reduction in users’ brain activity – MIT',\n",
       "  'news_link': 'https://www.artificialintelligence-news.com/news/ai-causes-reduction-in-users-brain-activity-mit/',\n",
       "  'publish_date': '2025-10-01 13:44:30Z',\n",
       "  'image_link': 'https://www.artificialintelligence-news.com/wp-content/uploads/2025/10/ai-cognitive-hero-1024x683.jpg',\n",
       "  'summary': '<p>A study from MIT (Massachusetts Institute of Technology) has found that the human brain not only works less hard when using an LLM, but its effects continue, negatively affecting mental activity in future work. The researchers used a limited number of subjects for their experiments (a limitation stated in the paper [PDF]), who were asked [&#8230;]</p>\\n<p>The post <a href=\"https://www.artificialintelligence-news.com/news/ai-causes-reduction-in-users-brain-activity-mit/\">AI causes reduction in users’ brain activity – MIT</a> appeared first on <a href=\"https://www.artificialintelligence-news.com\">AI News</a>.</p>'},\n",
       " {'title': 'The 5 best AI AppSec tools in 2025',\n",
       "  'news_link': 'https://www.artificialintelligence-news.com/news/the-5-best-ai-appsec-tools-in-2025/',\n",
       "  'publish_date': '2025-10-01 12:09:36Z',\n",
       "  'image_link': 'https://www.artificialintelligence-news.com/wp-content/uploads/2025/09/Untitled-design-73-1024x573.png',\n",
       "  'summary': '<p>Guest author: Or Hillel, Green Lamp Applications have become the foundation of how organisations deliver services, connect with customers, and manage important operations. Every transaction, interaction, and workflow runs on a web app, mobile interface, or API. That central role has made applications one of the most attractive and frequently-targeted points of entry for attackers. [&#8230;]</p>\\n<p>The post <a href=\"https://www.artificialintelligence-news.com/news/the-5-best-ai-appsec-tools-in-2025/\">The 5 best AI AppSec tools in 2025</a> appeared first on <a href=\"https://www.artificialintelligence-news.com\">AI News</a>.</p>'},\n",
       " {'title': 'Why AI phishing detection will define cybersecurity in 2026',\n",
       "  'news_link': 'https://www.artificialintelligence-news.com/news/why-ai-phishing-detection-will-define-cybersecurity-in-2026/',\n",
       "  'publish_date': '2025-10-01 10:07:59Z',\n",
       "  'image_link': 'https://www.artificialintelligence-news.com/wp-content/uploads/2025/10/adi-goldstein-EUsVwEOsblE-unsplash-1-1024x683.jpg',\n",
       "  'summary': '<p>Reuters recently published a joint experiment with Harvard, where they asked popular AI chatbots like Grok, ChatGPT, DeepSeek, and others to craft the &#8220;perfect phishing email.&#8221; The generated emails were then sent to 108 volunteers, of whom 11% clicked on the malicious links. With one simple prompt, the researchers were armed with highly persuasive messages [&#8230;]</p>\\n<p>The post <a href=\"https://www.artificialintelligence-news.com/news/why-ai-phishing-detection-will-define-cybersecurity-in-2026/\">Why AI phishing detection will define cybersecurity in 2026</a> appeared first on <a href=\"https://www.artificialintelligence-news.com\">AI News</a>.</p>'},\n",
       " {'title': 'Google: EU’s AI adoption lags China amid regulatory hurdles',\n",
       "  'news_link': 'https://www.artificialintelligence-news.com/news/google-eu-ai-adoption-lags-china-amid-regulatory-hurdles/',\n",
       "  'publish_date': '2025-10-01 09:54:47Z',\n",
       "  'image_link': 'https://www.artificialintelligence-news.com/wp-content/uploads/2025/10/google-eu-ai-adoption-china-regulatory-governance-regulations-artificial-intelligence-politics-europe-government-1024x768.jpg',\n",
       "  'summary': '<p>Google’s President of Global Affairs, Kent Walker, has urged the EU to increase AI adoption through a smarter regulatory approach amid increasing competition, particularly from China. Speaking at the Competitive Europe Summit in Brussels, Walker positioned AI as a tool that philosophers and economists call an “invention of a method of invention” which will reshape [&#8230;]</p>\\n<p>The post <a href=\"https://www.artificialintelligence-news.com/news/google-eu-ai-adoption-lags-china-amid-regulatory-hurdles/\">Google: EU&#8217;s AI adoption lags China amid regulatory hurdles</a> appeared first on <a href=\"https://www.artificialintelligence-news.com\">AI News</a>.</p>'},\n",
       " {'title': 'The value gap from AI investments is widening dangerously fast',\n",
       "  'news_link': 'https://www.artificialintelligence-news.com/news/value-gap-ai-investments-widening-dangerously-fast/',\n",
       "  'publish_date': '2025-09-30 12:35:19Z',\n",
       "  'image_link': 'https://www.artificialintelligence-news.com/wp-content/uploads/2025/09/ai-investments-value-gap-enterprise-agentic-ai-bcg-research-report-study-generative-agents-1024x768.jpg',\n",
       "  'summary': '<p>Boston Consulting Group (BCG) has found a widening chasm separating an elite of AI masters from the majority of firms struggling to generate any value from their AI investments. A study from BCG found that a mere five percent of companies are successfully achieving bottom-line value from AI at scale. In sharp contrast, 60 percent [&#8230;]</p>\\n<p>The post <a href=\"https://www.artificialintelligence-news.com/news/value-gap-ai-investments-widening-dangerously-fast/\">The value gap from AI investments is widening dangerously fast</a> appeared first on <a href=\"https://www.artificialintelligence-news.com\">AI News</a>.</p>'},\n",
       " {'title': 'The rise of algorithmic agriculture? AI steps in',\n",
       "  'news_link': 'https://www.artificialintelligence-news.com/news/the-rise-of-algorithmic-agriculture-ai-steps-in/',\n",
       "  'publish_date': '2025-09-30 11:07:47Z',\n",
       "  'image_link': 'https://www.artificialintelligence-news.com/wp-content/uploads/2025/09/ai-agriculture-hero-1024x684.jpg',\n",
       "  'summary': '<p>AI is the cream of the crop in today&#8217;s tech field, with industries relying on generative AI to improve operations and boost productivity. One sector that using AI with measurable results is agriculture, with vegetable seed companies harnessing the technology to identify the best vegetable varieties out of thousands of options. This facility can help [&#8230;]</p>\\n<p>The post <a href=\"https://www.artificialintelligence-news.com/news/the-rise-of-algorithmic-agriculture-ai-steps-in/\">The rise of algorithmic agriculture? AI steps in</a> appeared first on <a href=\"https://www.artificialintelligence-news.com\">AI News</a>.</p>'},\n",
       " {'title': 'Inside Huawei’s Shanghai acoustics lab: Where automotive sound engineering meets science',\n",
       "  'news_link': 'https://www.artificialintelligence-news.com/news/huawei-automotive-sound-engineering-lab-shanghai/',\n",
       "  'publish_date': '2025-09-30 08:30:00Z',\n",
       "  'image_link': 'https://www.artificialintelligence-news.com/wp-content/uploads/2025/09/2-Inside-of-luxury-sedan-1024x682.jpg',\n",
       "  'summary': '<p>Walking into Huawei&#8217;s Shanghai Acoustics R&#38;D Centre, I expected a standard facility tour. What I encountered instead was a comprehensive automotive sound engineering operation that challenges the established order of in-car audio systems. The facility, which Huawei has developed since beginning serious audio research investments in 2012, houses three distinct testing environments: a fully anechoic [&#8230;]</p>\\n<p>The post <a href=\"https://www.artificialintelligence-news.com/news/huawei-automotive-sound-engineering-lab-shanghai/\">Inside Huawei&#8217;s Shanghai acoustics lab: Where automotive sound engineering meets science</a> appeared first on <a href=\"https://www.artificialintelligence-news.com\">AI News</a>.</p>'},\n",
       " {'title': 'Rising AI demands push Asia Pacific data centres to adapt, says Vertiv',\n",
       "  'news_link': 'https://www.artificialintelligence-news.com/news/rising-ai-demands-push-asia-pacific-data-centres-to-adapt/',\n",
       "  'publish_date': '2025-09-30 08:15:55Z',\n",
       "  'image_link': 'https://www.artificialintelligence-news.com/wp-content/uploads/2025/09/Rising-AI-demands-push-Asia-Pacific-data-centres-to-adapt-1024x589.jpg',\n",
       "  'summary': '<p>As more companies in Asia Pacific adopt artificial intelligence to boost their operations, the pressure on data centres is growing fast. Traditional facilities, built for earlier generations of computing, are struggling to keep up with the heavy energy use and cooling demands of modern AI systems. By 2030, GPU-driven workloads could push rack power densities [&#8230;]</p>\\n<p>The post <a href=\"https://www.artificialintelligence-news.com/news/rising-ai-demands-push-asia-pacific-data-centres-to-adapt/\">Rising AI demands push Asia Pacific data centres to adapt, says Vertiv</a> appeared first on <a href=\"https://www.artificialintelligence-news.com\">AI News</a>.</p>'},\n",
       " {'title': 'Reply’s pre-built AI apps aim to fast-track AI adoption',\n",
       "  'news_link': 'https://www.artificialintelligence-news.com/news/replys-pre-built-ai-apps-aim-to-fast-track-ai-adoption/',\n",
       "  'publish_date': '2025-09-30 08:13:03Z',\n",
       "  'image_link': 'https://www.artificialintelligence-news.com/wp-content/uploads/2025/09/reply-prebuilt-hero-1024x636.jpg',\n",
       "  'summary': '<p>Adopting AI at scale can be difficult. Enterprises around the world are discovering the pace of AI deployment is frustratingly slow as they face implementation, integration, and customisation challenges. Generative AI is undoubtedly powerful, but it can be complex, particularly for businesses starting from scratch. To help organisations overcome the hurdles associated with AI adoption, [&#8230;]</p>\\n<p>The post <a href=\"https://www.artificialintelligence-news.com/news/replys-pre-built-ai-apps-aim-to-fast-track-ai-adoption/\">Reply&#8217;s pre-built AI apps aim to fast-track AI adoption</a> appeared first on <a href=\"https://www.artificialintelligence-news.com\">AI News</a>.</p>'},\n",
       " {'title': 'Huawei details open-source AI development roadmap at Huawei Connect 2025',\n",
       "  'news_link': 'https://www.artificialintelligence-news.com/news/huawei-open-source-ai-development-platform-technical-specs/',\n",
       "  'publish_date': '2025-09-29 08:34:34Z',\n",
       "  'image_link': 'https://www.artificialintelligence-news.com/wp-content/uploads/2025/09/250929-04-cover.jpg',\n",
       "  'summary': '<p>Open-source AI development took centre stage at Huawei Connect 2025 last week, with Huawei laying out implementation timelines and the technical specifics around making its entire AI software stack publicly available by year-end. The announcements came with context that matters to developers: frank acknowledgement of past friction, specific commitments about what components will be released, [&#8230;]</p>\\n<p>The post <a href=\"https://www.artificialintelligence-news.com/news/huawei-open-source-ai-development-platform-technical-specs/\">Huawei details open-source AI development roadmap at Huawei Connect 2025</a> appeared first on <a href=\"https://www.artificialintelligence-news.com\">AI News</a>.</p>'},\n",
       " {'title': 'CAMIA privacy attack reveals what AI models memorise',\n",
       "  'news_link': 'https://www.artificialintelligence-news.com/news/camia-privacy-attack-reveals-what-ai-models-memorise/',\n",
       "  'publish_date': '2025-09-26 17:17:55Z',\n",
       "  'image_link': 'https://www.artificialintelligence-news.com/wp-content/uploads/2025/09/privacy-attack-ai-artificial-intelligence-data-training-brave-1024x768.jpg',\n",
       "  'summary': '<p>Researchers have developed a new attack that reveals privacy vulnerabilities by determining whether your data was used to train AI models. The method, named CAMIA (Context-Aware Membership Inference Attack), was developed by researchers from Brave and the National University of Singapore and is far more effective than previous attempts at probing the &#8216;memory&#8217; of AI [&#8230;]</p>\\n<p>The post <a href=\"https://www.artificialintelligence-news.com/news/camia-privacy-attack-reveals-what-ai-models-memorise/\">CAMIA privacy attack reveals what AI models memorise</a> appeared first on <a href=\"https://www.artificialintelligence-news.com\">AI News</a>.</p>'},\n",
       " {'title': 'Ethical cybersecurity practice reshapes enterprise security in 2025',\n",
       "  'news_link': 'https://www.artificialintelligence-news.com/news/manageengine-ethical-cybersecurity-2025/',\n",
       "  'publish_date': '2025-09-26 08:20:45Z',\n",
       "  'image_link': 'https://www.artificialintelligence-news.com/wp-content/uploads/2025/09/Romanus-2-1024x683.jpg',\n",
       "  'summary': '<p>When ransomware attacks like Akira and Ryuk began crippling organisations worldwide, the cybersecurity industry&#8217;s first instinct was predictable: build bigger walls, deploy more aggressive automated responses, and lock down everything. But there was a different problem emerging, according to Romanus Prabhu Raymond, Director of Technology at ManageEngine. The company&#8217;s customers were demanding aggressive containment features, [&#8230;]</p>\\n<p>The post <a href=\"https://www.artificialintelligence-news.com/news/manageengine-ethical-cybersecurity-2025/\">Ethical cybersecurity practice reshapes enterprise security in 2025</a> appeared first on <a href=\"https://www.artificialintelligence-news.com\">AI News</a>.</p>'}]"
      ]
     },
     "execution_count": 14,
     "metadata": {},
     "output_type": "execute_result"
    }
   ],
   "source": [
    "retrieve_ai_news(rss_url)"
   ]
  },
  {
   "cell_type": "code",
   "execution_count": null,
   "id": "f77b252d",
   "metadata": {},
   "outputs": [],
   "source": []
  }
 ],
 "metadata": {
  "kernelspec": {
   "display_name": "ai-hub-sharepoint-agent",
   "language": "python",
   "name": "python3"
  },
  "language_info": {
   "codemirror_mode": {
    "name": "ipython",
    "version": 3
   },
   "file_extension": ".py",
   "mimetype": "text/x-python",
   "name": "python",
   "nbconvert_exporter": "python",
   "pygments_lexer": "ipython3",
   "version": "3.12.1"
  }
 },
 "nbformat": 4,
 "nbformat_minor": 5
}
