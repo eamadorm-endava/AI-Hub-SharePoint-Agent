{
 "cells": [
  {
   "cell_type": "code",
   "execution_count": 1,
   "id": "038e58f5",
   "metadata": {},
   "outputs": [
    {
     "data": {
      "text/plain": [
       "True"
      ]
     },
     "execution_count": 1,
     "metadata": {},
     "output_type": "execute_result"
    }
   ],
   "source": [
    "from dotenv import load_dotenv\n",
    "from loguru import logger\n",
    "import sys\n",
    "\n",
    "sys.path.append(\"..\")\n",
    "\n",
    "from news_extraction_pipeline.config import AINewsConfig\n",
    "from news_extraction_pipeline.schemas import PipelineArgs\n",
    "from news_extraction_pipeline.pipeline_steps import (\n",
    "    extract_from_multiple_feed_urls,\n",
    "    filter_by_date_threshold,\n",
    "    filter_by_keywords,\n",
    "    convert_datetime_columns_to_str\n",
    ")\n",
    "\n",
    "load_dotenv()"
   ]
  },
  {
   "cell_type": "code",
   "execution_count": 2,
   "id": "4341eb04",
   "metadata": {},
   "outputs": [],
   "source": [
    "news_config = AINewsConfig()\n",
    "pipeline_args = PipelineArgs()"
   ]
  },
  {
   "cell_type": "code",
   "execution_count": 3,
   "id": "0cff3832",
   "metadata": {},
   "outputs": [],
   "source": [
    "bad_url = \"https://techcrunch.com/category/artificial-intelligence/\""
   ]
  },
  {
   "cell_type": "code",
   "execution_count": 4,
   "id": "4c818d46",
   "metadata": {},
   "outputs": [
    {
     "name": "stderr",
     "output_type": "stream",
     "text": [
      "\u001b[32m2025-10-09 20:08:41.016\u001b[0m | \u001b[1mINFO    \u001b[0m | \u001b[36m__main__\u001b[0m:\u001b[36m<module>\u001b[0m:\u001b[36m1\u001b[0m - \u001b[1mStarting AI news retrieval process...\u001b[0m\n",
      "\u001b[32m2025-10-09 20:08:41.020\u001b[0m | \u001b[1mINFO    \u001b[0m | \u001b[36mnews_extraction_pipeline.extractors.news.news_extractors\u001b[0m:\u001b[36mcurrent_feed_url\u001b[0m:\u001b[36m64\u001b[0m - \u001b[1mSetting current feed url to https://techcrunch.com/category/artificial-intelligence/\u001b[0m\n",
      "\u001b[32m2025-10-09 20:08:41.022\u001b[0m | \u001b[33m\u001b[1mWARNING \u001b[0m | \u001b[36mnews_extraction_pipeline.extractor_selectors.extractor_selector\u001b[0m:\u001b[36mget_extractor\u001b[0m:\u001b[36m68\u001b[0m - \u001b[33m\u001b[1mNo image extractor found for the url: https://techcrunch.com/category/artificial-intelligence/. The data retrieve will not contain an image_url\u001b[0m\n",
      "\u001b[32m2025-10-09 20:08:41.022\u001b[0m | \u001b[1mINFO    \u001b[0m | \u001b[36mnews_extraction_pipeline.extractors.news.news_extractors\u001b[0m:\u001b[36mcurrent_feed_url\u001b[0m:\u001b[36m64\u001b[0m - \u001b[1mSetting current feed url to https://news.mit.edu/rss/feed\u001b[0m\n",
      "\u001b[32m2025-10-09 20:08:41.022\u001b[0m | \u001b[1mINFO    \u001b[0m | \u001b[36mnews_extraction_pipeline.extractors.news.news_extractors\u001b[0m:\u001b[36mcurrent_feed_url\u001b[0m:\u001b[36m64\u001b[0m - \u001b[1mSetting current feed url to https://www.artificialintelligence-news.com/artificial-intelligence-news/feed/\u001b[0m\n",
      "\u001b[32m2025-10-09 20:08:41.053\u001b[0m | \u001b[1mINFO    \u001b[0m | \u001b[36mnews_extraction_pipeline.extractor_selectors.extractor_selector\u001b[0m:\u001b[36mget_extractor\u001b[0m:\u001b[36m73\u001b[0m - \u001b[1mExtractor 'MITImageExtractor' selected for base URL: https://news.mit.edu\u001b[0m\n",
      "\u001b[32m2025-10-09 20:08:41.053\u001b[0m | \u001b[1mINFO    \u001b[0m | \u001b[36mnews_extraction_pipeline.extractor_selectors.extractor_selector\u001b[0m:\u001b[36mget_extractor\u001b[0m:\u001b[36m73\u001b[0m - \u001b[1mExtractor 'AINEWSImageExtractor' selected for base URL: https://www.artificialintelligence-news.com\u001b[0m\n",
      "\u001b[32m2025-10-09 20:08:41.281\u001b[0m | \u001b[31m\u001b[1mERROR   \u001b[0m | \u001b[36mnews_extraction_pipeline.extractors.news.news_extractors\u001b[0m:\u001b[36mget_articles\u001b[0m:\u001b[36m146\u001b[0m - \u001b[31m\u001b[1mNo articles extracted from https://techcrunch.com/category/artificial-intelligence/  Make sure the url is RSS-compatible\u001b[0m\n",
      "\u001b[32m2025-10-09 20:08:59.114\u001b[0m | \u001b[1mINFO    \u001b[0m | \u001b[36mnews_extraction_pipeline.extractors.news.news_extractors\u001b[0m:\u001b[36mget_articles\u001b[0m:\u001b[36m133\u001b[0m - \u001b[1m12 articles extracted\u001b[0m\n",
      "\u001b[32m2025-10-09 20:09:14.295\u001b[0m | \u001b[1mINFO    \u001b[0m | \u001b[36mnews_extraction_pipeline.extractors.news.news_extractors\u001b[0m:\u001b[36mget_articles\u001b[0m:\u001b[36m133\u001b[0m - \u001b[1m50 articles extracted\u001b[0m\n"
     ]
    }
   ],
   "source": [
    "logger.info(\"Starting AI news retrieval process...\")\n",
    "\n",
    "news_config_dict = news_config.model_dump()\n",
    "\n",
    "news_sources = [val for key, val in news_config_dict.items() if key.endswith(\"_FEED_URL\")]\n",
    "\n",
    "news_sources = [bad_url, news_config.MIT_NEWS_FEED_URL, news_config.AI_NEWS_FEED_URL]\n",
    "\n",
    "articles = extract_from_multiple_feed_urls(news_sources)"
   ]
  },
  {
   "cell_type": "code",
   "execution_count": 5,
   "id": "e58ac8b1",
   "metadata": {},
   "outputs": [
    {
     "name": "stdout",
     "output_type": "stream",
     "text": [
      "<class 'pandas.core.frame.DataFrame'>\n",
      "Index: 62 entries, 0 to 49\n",
      "Data columns (total 4 columns):\n",
      " #   Column        Non-Null Count  Dtype              \n",
      "---  ------        --------------  -----              \n",
      " 0   title         62 non-null     object             \n",
      " 1   news_link     62 non-null     object             \n",
      " 2   image_link    62 non-null     object             \n",
      " 3   publish_date  62 non-null     datetime64[ns, UTC]\n",
      "dtypes: datetime64[ns, UTC](1), object(3)\n",
      "memory usage: 2.4+ KB\n"
     ]
    }
   ],
   "source": [
    "articles.info()"
   ]
  },
  {
   "cell_type": "code",
   "execution_count": 6,
   "id": "bf04b911",
   "metadata": {},
   "outputs": [
    {
     "data": {
      "text/html": [
       "<div>\n",
       "<style scoped>\n",
       "    .dataframe tbody tr th:only-of-type {\n",
       "        vertical-align: middle;\n",
       "    }\n",
       "\n",
       "    .dataframe tbody tr th {\n",
       "        vertical-align: top;\n",
       "    }\n",
       "\n",
       "    .dataframe thead th {\n",
       "        text-align: right;\n",
       "    }\n",
       "</style>\n",
       "<table border=\"1\" class=\"dataframe\">\n",
       "  <thead>\n",
       "    <tr style=\"text-align: right;\">\n",
       "      <th></th>\n",
       "      <th>title</th>\n",
       "      <th>news_link</th>\n",
       "      <th>image_link</th>\n",
       "      <th>publish_date</th>\n",
       "    </tr>\n",
       "  </thead>\n",
       "  <tbody>\n",
       "    <tr>\n",
       "      <th>17</th>\n",
       "      <td>AI maps how a new antibiotic targets gut bacteria</td>\n",
       "      <td>https://news.mit.edu/2025/ai-maps-how-new-anti...</td>\n",
       "      <td>https://news.mit.edu/sites/default/files/style...</td>\n",
       "      <td>2025-10-03 21:00:00+00:00</td>\n",
       "    </tr>\n",
       "    <tr>\n",
       "      <th>18</th>\n",
       "      <td>Secretary of Energy Chris Wright ’85 visits MIT</td>\n",
       "      <td>https://news.mit.edu/2025/secretary-energy-chr...</td>\n",
       "      <td>https://news.mit.edu/sites/default/files/style...</td>\n",
       "      <td>2025-10-03 04:00:00+00:00</td>\n",
       "    </tr>\n",
       "    <tr>\n",
       "      <th>27</th>\n",
       "      <td>System lets people personalize online social s...</td>\n",
       "      <td>https://news.mit.edu/2025/system-lets-people-p...</td>\n",
       "      <td>https://news.mit.edu/sites/default/files/style...</td>\n",
       "      <td>2025-10-01 14:00:00+00:00</td>\n",
       "    </tr>\n",
       "    <tr>\n",
       "      <th>13</th>\n",
       "      <td>Study sheds light on musicians’ enhanced atten...</td>\n",
       "      <td>https://news.mit.edu/2025/study-sheds-light-mu...</td>\n",
       "      <td>https://news.mit.edu/sites/default/files/style...</td>\n",
       "      <td>2025-10-06 19:45:00+00:00</td>\n",
       "    </tr>\n",
       "    <tr>\n",
       "      <th>29</th>\n",
       "      <td>3 Questions: Addressing the world’s most press...</td>\n",
       "      <td>https://news.mit.edu/2025/3-questions-mihaela-...</td>\n",
       "      <td>https://news.mit.edu/sites/default/files/style...</td>\n",
       "      <td>2025-09-30 12:00:00+00:00</td>\n",
       "    </tr>\n",
       "    <tr>\n",
       "      <th>0</th>\n",
       "      <td>Gemini Enterprise: Google aims to put an AI ag...</td>\n",
       "      <td>https://www.artificialintelligence-news.com/ne...</td>\n",
       "      <td>https://www.artificialintelligence-news.com/wp...</td>\n",
       "      <td>2025-10-09 12:00:03+00:00</td>\n",
       "    </tr>\n",
       "    <tr>\n",
       "      <th>36</th>\n",
       "      <td>How the brain splits up vision without you eve...</td>\n",
       "      <td>https://news.mit.edu/2025/how-brain-splits-vis...</td>\n",
       "      <td>https://news.mit.edu/sites/default/files/style...</td>\n",
       "      <td>2025-09-26 19:50:00+00:00</td>\n",
       "    </tr>\n",
       "    <tr>\n",
       "      <th>9</th>\n",
       "      <td>China Mobile Shanghai launches industry-first ...</td>\n",
       "      <td>https://www.artificialintelligence-news.com/ne...</td>\n",
       "      <td>https://www.artificialintelligence-news.com/wp...</td>\n",
       "      <td>2025-10-03 09:00:00+00:00</td>\n",
       "    </tr>\n",
       "    <tr>\n",
       "      <th>45</th>\n",
       "      <td>MIT engineers develop a magnetic transistor fo...</td>\n",
       "      <td>https://news.mit.edu/2025/mit-engineers-develo...</td>\n",
       "      <td>https://news.mit.edu/sites/default/files/style...</td>\n",
       "      <td>2025-09-23 15:32:00+00:00</td>\n",
       "    </tr>\n",
       "    <tr>\n",
       "      <th>1</th>\n",
       "      <td>Can Cisco’s new AI data centre router tackle t...</td>\n",
       "      <td>https://www.artificialintelligence-news.com/ne...</td>\n",
       "      <td>https://www.artificialintelligence-news.com/wp...</td>\n",
       "      <td>2025-10-09 09:00:00+00:00</td>\n",
       "    </tr>\n",
       "  </tbody>\n",
       "</table>\n",
       "</div>"
      ],
      "text/plain": [
       "                                                title  \\\n",
       "17  AI maps how a new antibiotic targets gut bacteria   \n",
       "18    Secretary of Energy Chris Wright ’85 visits MIT   \n",
       "27  System lets people personalize online social s...   \n",
       "13  Study sheds light on musicians’ enhanced atten...   \n",
       "29  3 Questions: Addressing the world’s most press...   \n",
       "0   Gemini Enterprise: Google aims to put an AI ag...   \n",
       "36  How the brain splits up vision without you eve...   \n",
       "9   China Mobile Shanghai launches industry-first ...   \n",
       "45  MIT engineers develop a magnetic transistor fo...   \n",
       "1   Can Cisco’s new AI data centre router tackle t...   \n",
       "\n",
       "                                            news_link  \\\n",
       "17  https://news.mit.edu/2025/ai-maps-how-new-anti...   \n",
       "18  https://news.mit.edu/2025/secretary-energy-chr...   \n",
       "27  https://news.mit.edu/2025/system-lets-people-p...   \n",
       "13  https://news.mit.edu/2025/study-sheds-light-mu...   \n",
       "29  https://news.mit.edu/2025/3-questions-mihaela-...   \n",
       "0   https://www.artificialintelligence-news.com/ne...   \n",
       "36  https://news.mit.edu/2025/how-brain-splits-vis...   \n",
       "9   https://www.artificialintelligence-news.com/ne...   \n",
       "45  https://news.mit.edu/2025/mit-engineers-develo...   \n",
       "1   https://www.artificialintelligence-news.com/ne...   \n",
       "\n",
       "                                           image_link  \\\n",
       "17  https://news.mit.edu/sites/default/files/style...   \n",
       "18  https://news.mit.edu/sites/default/files/style...   \n",
       "27  https://news.mit.edu/sites/default/files/style...   \n",
       "13  https://news.mit.edu/sites/default/files/style...   \n",
       "29  https://news.mit.edu/sites/default/files/style...   \n",
       "0   https://www.artificialintelligence-news.com/wp...   \n",
       "36  https://news.mit.edu/sites/default/files/style...   \n",
       "9   https://www.artificialintelligence-news.com/wp...   \n",
       "45  https://news.mit.edu/sites/default/files/style...   \n",
       "1   https://www.artificialintelligence-news.com/wp...   \n",
       "\n",
       "                publish_date  \n",
       "17 2025-10-03 21:00:00+00:00  \n",
       "18 2025-10-03 04:00:00+00:00  \n",
       "27 2025-10-01 14:00:00+00:00  \n",
       "13 2025-10-06 19:45:00+00:00  \n",
       "29 2025-09-30 12:00:00+00:00  \n",
       "0  2025-10-09 12:00:03+00:00  \n",
       "36 2025-09-26 19:50:00+00:00  \n",
       "9  2025-10-03 09:00:00+00:00  \n",
       "45 2025-09-23 15:32:00+00:00  \n",
       "1  2025-10-09 09:00:00+00:00  "
      ]
     },
     "execution_count": 6,
     "metadata": {},
     "output_type": "execute_result"
    }
   ],
   "source": [
    "articles.sample(10)"
   ]
  },
  {
   "cell_type": "code",
   "execution_count": 7,
   "id": "6d1e24ea",
   "metadata": {},
   "outputs": [
    {
     "name": "stderr",
     "output_type": "stream",
     "text": [
      "\u001b[32m2025-10-09 20:09:14.383\u001b[0m | \u001b[1mINFO    \u001b[0m | \u001b[36mnews_extraction_pipeline.pipeline_steps\u001b[0m:\u001b[36mfilter_by_date_threshold\u001b[0m:\u001b[36m162\u001b[0m - \u001b[1mFiltering articles published within the last 2 days.\u001b[0m\n",
      "\u001b[32m2025-10-09 20:09:14.385\u001b[0m | \u001b[1mINFO    \u001b[0m | \u001b[36mnews_extraction_pipeline.pipeline_steps\u001b[0m:\u001b[36mfilter_by_date_threshold\u001b[0m:\u001b[36m175\u001b[0m - \u001b[1mDate filtering complete. 15 articles published within the allowed range.\u001b[0m\n"
     ]
    }
   ],
   "source": [
    "filtered_by_date = filter_by_date_threshold(\n",
    "    df = articles,\n",
    "    filter_column=news_config.DATE_COLUMN,\n",
    "    max_days_old=pipeline_args.max_days_old\n",
    ")\n"
   ]
  },
  {
   "cell_type": "code",
   "execution_count": 8,
   "id": "d61e16d5",
   "metadata": {},
   "outputs": [
    {
     "name": "stderr",
     "output_type": "stream",
     "text": [
      "\u001b[32m2025-10-09 20:09:14.393\u001b[0m | \u001b[34m\u001b[1mDEBUG   \u001b[0m | \u001b[36mnews_extraction_pipeline.pipeline_steps\u001b[0m:\u001b[36mfilter_by_keywords\u001b[0m:\u001b[36m107\u001b[0m - \u001b[34m\u001b[1mFiltering articles by the next parameters...\u001b[0m\n",
      "\u001b[32m2025-10-09 20:09:14.393\u001b[0m | \u001b[34m\u001b[1mDEBUG   \u001b[0m | \u001b[36mnews_extraction_pipeline.pipeline_steps\u001b[0m:\u001b[36mfilter_by_keywords\u001b[0m:\u001b[36m108\u001b[0m - \u001b[34m\u001b[1mcase_sen_search_kw =[' AI ', 'AI ', 'AI ', 'A.I.', ' AI-', 'AI-']\u001b[0m\n",
      "\u001b[32m2025-10-09 20:09:14.397\u001b[0m | \u001b[34m\u001b[1mDEBUG   \u001b[0m | \u001b[36mnews_extraction_pipeline.pipeline_steps\u001b[0m:\u001b[36mfilter_by_keywords\u001b[0m:\u001b[36m109\u001b[0m - \u001b[34m\u001b[1mcase_insen_search_kw =['Artificial Intelligence', 'Machine Learning', 'Deep Learning', 'Neural Networks', 'NLP', 'Computer Vision', 'Data Science', 'Gemini', 'Bard', 'ChatGPT', 'GPT-4', 'DALL-E', 'MidJourney', 'Stable Diffusion', 'Claude', 'Whisper']\u001b[0m\n",
      "\u001b[32m2025-10-09 20:09:14.397\u001b[0m | \u001b[34m\u001b[1mDEBUG   \u001b[0m | \u001b[36mnews_extraction_pipeline.pipeline_steps\u001b[0m:\u001b[36mfilter_by_keywords\u001b[0m:\u001b[36m110\u001b[0m - \u001b[34m\u001b[1mFiltering by column: title\u001b[0m\n",
      "\u001b[32m2025-10-09 20:09:14.401\u001b[0m | \u001b[1mINFO    \u001b[0m | \u001b[36mnews_extraction_pipeline.pipeline_steps\u001b[0m:\u001b[36mfilter_by_keywords\u001b[0m:\u001b[36m126\u001b[0m - \u001b[1mKeyword filtering complete. 7 articles matched the criteria.\u001b[0m\n"
     ]
    }
   ],
   "source": [
    "filtered_by_kw = filter_by_keywords(\n",
    "    df = filtered_by_date,\n",
    "    filter_column=news_config.COLUMN_TO_FILTER_BY_KW,\n",
    "    case_sen_search_kw=pipeline_args.case_sen_search_kw,\n",
    "    case_insen_search_kw=pipeline_args.case_insen_search_kw,\n",
    ")"
   ]
  },
  {
   "cell_type": "code",
   "execution_count": 9,
   "id": "91bd8e74",
   "metadata": {},
   "outputs": [
    {
     "name": "stderr",
     "output_type": "stream",
     "text": [
      "\u001b[32m2025-10-09 20:09:14.407\u001b[0m | \u001b[1mINFO    \u001b[0m | \u001b[36mnews_extraction_pipeline.pipeline_steps\u001b[0m:\u001b[36mconvert_datetime_columns_to_str\u001b[0m:\u001b[36m214\u001b[0m - \u001b[1mConverting datetime columns to string format: %Y-%m-%dT%H:%M:%SZ\u001b[0m\n",
      "\u001b[32m2025-10-09 20:09:14.414\u001b[0m | \u001b[34m\u001b[1mDEBUG   \u001b[0m | \u001b[36mnews_extraction_pipeline.pipeline_steps\u001b[0m:\u001b[36mconvert_datetime_columns_to_str\u001b[0m:\u001b[36m215\u001b[0m - \u001b[34m\u001b[1mDetected datetime columns: ['publish_date']\u001b[0m\n",
      "\u001b[32m2025-10-09 20:09:14.416\u001b[0m | \u001b[1mINFO    \u001b[0m | \u001b[36mnews_extraction_pipeline.pipeline_steps\u001b[0m:\u001b[36mconvert_datetime_columns_to_str\u001b[0m:\u001b[36m220\u001b[0m - \u001b[1mDatetime conversion complete.\u001b[0m\n"
     ]
    },
    {
     "name": "stdout",
     "output_type": "stream",
     "text": [
      "<class 'pandas.core.frame.DataFrame'>\n",
      "RangeIndex: 7 entries, 0 to 6\n",
      "Data columns (total 4 columns):\n",
      " #   Column        Non-Null Count  Dtype \n",
      "---  ------        --------------  ----- \n",
      " 0   title         7 non-null      object\n",
      " 1   news_link     7 non-null      object\n",
      " 2   image_link    7 non-null      object\n",
      " 3   publish_date  7 non-null      object\n",
      "dtypes: object(4)\n",
      "memory usage: 356.0+ bytes\n"
     ]
    }
   ],
   "source": [
    "final_df = convert_datetime_columns_to_str(\n",
    "    df = filtered_by_kw,\n",
    "    string_format = news_config.DATE_STRING_FORMAT\n",
    ")\n",
    "\n",
    "final_df.info()"
   ]
  },
  {
   "cell_type": "markdown",
   "id": "cf22bab9",
   "metadata": {},
   "source": [
    "## Full Pipeline in a line"
   ]
  },
  {
   "cell_type": "code",
   "execution_count": 10,
   "id": "82206e82",
   "metadata": {},
   "outputs": [
    {
     "name": "stderr",
     "output_type": "stream",
     "text": [
      "\u001b[32m2025-10-09 20:09:14.431\u001b[0m | \u001b[1mINFO    \u001b[0m | \u001b[36mnews_extraction_pipeline.pipeline\u001b[0m:\u001b[36mmain\u001b[0m:\u001b[36m34\u001b[0m - \u001b[1mStarting AI news retrieval process...\u001b[0m\n",
      "\u001b[32m2025-10-09 20:09:14.433\u001b[0m | \u001b[1mINFO    \u001b[0m | \u001b[36mnews_extraction_pipeline.extractors.news.news_extractors\u001b[0m:\u001b[36mcurrent_feed_url\u001b[0m:\u001b[36m64\u001b[0m - \u001b[1mSetting current feed url to https://news.mit.edu/rss/feed\u001b[0m\n",
      "\u001b[32m2025-10-09 20:09:14.438\u001b[0m | \u001b[1mINFO    \u001b[0m | \u001b[36mnews_extraction_pipeline.extractors.news.news_extractors\u001b[0m:\u001b[36mcurrent_feed_url\u001b[0m:\u001b[36m64\u001b[0m - \u001b[1mSetting current feed url to https://www.artificialintelligence-news.com/artificial-intelligence-news/feed/\u001b[0m\n",
      "\u001b[32m2025-10-09 20:09:14.438\u001b[0m | \u001b[1mINFO    \u001b[0m | \u001b[36mnews_extraction_pipeline.extractor_selectors.extractor_selector\u001b[0m:\u001b[36mget_extractor\u001b[0m:\u001b[36m73\u001b[0m - \u001b[1mExtractor 'MITImageExtractor' selected for base URL: https://news.mit.edu\u001b[0m\n",
      "\u001b[32m2025-10-09 20:09:14.440\u001b[0m | \u001b[1mINFO    \u001b[0m | \u001b[36mnews_extraction_pipeline.extractor_selectors.extractor_selector\u001b[0m:\u001b[36mget_extractor\u001b[0m:\u001b[36m73\u001b[0m - \u001b[1mExtractor 'AINEWSImageExtractor' selected for base URL: https://www.artificialintelligence-news.com\u001b[0m\n",
      "\u001b[32m2025-10-09 20:09:32.792\u001b[0m | \u001b[1mINFO    \u001b[0m | \u001b[36mnews_extraction_pipeline.extractors.news.news_extractors\u001b[0m:\u001b[36mget_articles\u001b[0m:\u001b[36m133\u001b[0m - \u001b[1m12 articles extracted\u001b[0m\n",
      "\u001b[32m2025-10-09 20:09:45.500\u001b[0m | \u001b[1mINFO    \u001b[0m | \u001b[36mnews_extraction_pipeline.extractors.news.news_extractors\u001b[0m:\u001b[36mget_articles\u001b[0m:\u001b[36m133\u001b[0m - \u001b[1m50 articles extracted\u001b[0m\n",
      "\u001b[32m2025-10-09 20:09:45.505\u001b[0m | \u001b[1mINFO    \u001b[0m | \u001b[36mnews_extraction_pipeline.pipeline\u001b[0m:\u001b[36mmain\u001b[0m:\u001b[36m55\u001b[0m - \u001b[1mFiltering news articles from the last 2 days...\u001b[0m\n",
      "\u001b[32m2025-10-09 20:09:45.508\u001b[0m | \u001b[1mINFO    \u001b[0m | \u001b[36mnews_extraction_pipeline.pipeline_steps\u001b[0m:\u001b[36mfilter_by_date_threshold\u001b[0m:\u001b[36m162\u001b[0m - \u001b[1mFiltering articles published within the last 2 days.\u001b[0m\n",
      "\u001b[32m2025-10-09 20:09:45.508\u001b[0m | \u001b[1mINFO    \u001b[0m | \u001b[36mnews_extraction_pipeline.pipeline_steps\u001b[0m:\u001b[36mfilter_by_date_threshold\u001b[0m:\u001b[36m175\u001b[0m - \u001b[1mDate filtering complete. 15 articles published within the allowed range.\u001b[0m\n",
      "\u001b[32m2025-10-09 20:09:45.508\u001b[0m | \u001b[34m\u001b[1mDEBUG   \u001b[0m | \u001b[36mnews_extraction_pipeline.pipeline_steps\u001b[0m:\u001b[36mfilter_by_keywords\u001b[0m:\u001b[36m107\u001b[0m - \u001b[34m\u001b[1mFiltering articles by the next parameters...\u001b[0m\n",
      "\u001b[32m2025-10-09 20:09:45.508\u001b[0m | \u001b[34m\u001b[1mDEBUG   \u001b[0m | \u001b[36mnews_extraction_pipeline.pipeline_steps\u001b[0m:\u001b[36mfilter_by_keywords\u001b[0m:\u001b[36m108\u001b[0m - \u001b[34m\u001b[1mcase_sen_search_kw =[' AI ', 'AI ', 'AI ', 'A.I.', ' AI-', 'AI-']\u001b[0m\n",
      "\u001b[32m2025-10-09 20:09:45.508\u001b[0m | \u001b[34m\u001b[1mDEBUG   \u001b[0m | \u001b[36mnews_extraction_pipeline.pipeline_steps\u001b[0m:\u001b[36mfilter_by_keywords\u001b[0m:\u001b[36m109\u001b[0m - \u001b[34m\u001b[1mcase_insen_search_kw =['Artificial Intelligence', 'Machine Learning', 'Deep Learning', 'Neural Networks', 'NLP', 'Computer Vision', 'Data Science', 'Gemini', 'Bard', 'ChatGPT', 'GPT-4', 'DALL-E', 'MidJourney', 'Stable Diffusion', 'Claude', 'Whisper']\u001b[0m\n",
      "\u001b[32m2025-10-09 20:09:45.508\u001b[0m | \u001b[34m\u001b[1mDEBUG   \u001b[0m | \u001b[36mnews_extraction_pipeline.pipeline_steps\u001b[0m:\u001b[36mfilter_by_keywords\u001b[0m:\u001b[36m110\u001b[0m - \u001b[34m\u001b[1mFiltering by column: title\u001b[0m\n",
      "\u001b[32m2025-10-09 20:09:45.508\u001b[0m | \u001b[1mINFO    \u001b[0m | \u001b[36mnews_extraction_pipeline.pipeline_steps\u001b[0m:\u001b[36mfilter_by_keywords\u001b[0m:\u001b[36m126\u001b[0m - \u001b[1mKeyword filtering complete. 7 articles matched the criteria.\u001b[0m\n",
      "\u001b[32m2025-10-09 20:09:45.508\u001b[0m | \u001b[1mINFO    \u001b[0m | \u001b[36mnews_extraction_pipeline.pipeline_steps\u001b[0m:\u001b[36mconvert_datetime_columns_to_str\u001b[0m:\u001b[36m214\u001b[0m - \u001b[1mConverting datetime columns to string format: %Y-%m-%dT%H:%M:%SZ\u001b[0m\n",
      "\u001b[32m2025-10-09 20:09:45.508\u001b[0m | \u001b[34m\u001b[1mDEBUG   \u001b[0m | \u001b[36mnews_extraction_pipeline.pipeline_steps\u001b[0m:\u001b[36mconvert_datetime_columns_to_str\u001b[0m:\u001b[36m215\u001b[0m - \u001b[34m\u001b[1mDetected datetime columns: ['publish_date']\u001b[0m\n",
      "\u001b[32m2025-10-09 20:09:45.508\u001b[0m | \u001b[1mINFO    \u001b[0m | \u001b[36mnews_extraction_pipeline.pipeline_steps\u001b[0m:\u001b[36mconvert_datetime_columns_to_str\u001b[0m:\u001b[36m220\u001b[0m - \u001b[1mDatetime conversion complete.\u001b[0m\n"
     ]
    }
   ],
   "source": [
    "import sys\n",
    "\n",
    "sys.path.append(\"..\")\n",
    "\n",
    "from news_extraction_pipeline.pipeline import main\n",
    "\n",
    "final_articles = main()"
   ]
  },
  {
   "cell_type": "code",
   "execution_count": 11,
   "id": "c335a1eb",
   "metadata": {},
   "outputs": [
    {
     "name": "stdout",
     "output_type": "stream",
     "text": [
      "<class 'pandas.core.frame.DataFrame'>\n",
      "RangeIndex: 7 entries, 0 to 6\n",
      "Data columns (total 4 columns):\n",
      " #   Column        Non-Null Count  Dtype \n",
      "---  ------        --------------  ----- \n",
      " 0   title         7 non-null      object\n",
      " 1   news_link     7 non-null      object\n",
      " 2   image_link    7 non-null      object\n",
      " 3   publish_date  7 non-null      object\n",
      "dtypes: object(4)\n",
      "memory usage: 356.0+ bytes\n"
     ]
    }
   ],
   "source": [
    "final_articles.info()"
   ]
  },
  {
   "cell_type": "code",
   "execution_count": null,
   "id": "405e7b8f",
   "metadata": {},
   "outputs": [],
   "source": []
  }
 ],
 "metadata": {
  "kernelspec": {
   "display_name": "ai-hub-sharepoint-agent",
   "language": "python",
   "name": "python3"
  },
  "language_info": {
   "codemirror_mode": {
    "name": "ipython",
    "version": 3
   },
   "file_extension": ".py",
   "mimetype": "text/x-python",
   "name": "python",
   "nbconvert_exporter": "python",
   "pygments_lexer": "ipython3",
   "version": "3.12.11"
  }
 },
 "nbformat": 4,
 "nbformat_minor": 5
}
