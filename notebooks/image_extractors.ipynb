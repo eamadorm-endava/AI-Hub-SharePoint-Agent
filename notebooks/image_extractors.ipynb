{
 "cells": [
  {
   "cell_type": "markdown",
   "id": "372ed9aa",
   "metadata": {},
   "source": [
    "# Image Extractors\n",
    "\n",
    "This notebook tests the ImageExtractors classes created"
   ]
  },
  {
   "cell_type": "code",
   "execution_count": 3,
   "id": "f3220638",
   "metadata": {},
   "outputs": [],
   "source": [
    "import sys\n",
    "\n",
    "sys.path.append(\"..\")\n",
    "\n",
    "from ai_news_pipeline.extractors.image_url.image_url_extractors import AINEWSImageExtractor, MITImageExtractor"
   ]
  },
  {
   "cell_type": "code",
   "execution_count": 4,
   "id": "f04ddca7",
   "metadata": {},
   "outputs": [
    {
     "data": {
      "text/plain": [
       "'https://www.artificialintelligence-news.com/wp-content/uploads/2025/10/google-ai-agent-fix-code-cybersecurity-infosec-security-coding-programming-software-development-artificial-intelligence-1024x768.jpg'"
      ]
     },
     "execution_count": 4,
     "metadata": {},
     "output_type": "execute_result"
    }
   ],
   "source": [
    "ai_news_url = \"https://www.artificialintelligence-news.com/news/google-new-ai-agent-rewrites-code-automate-vulnerability-fixes/\"\n",
    "ainews_image_extractor = AINEWSImageExtractor(news_url=ai_news_url)\n",
    "\n",
    "ai_news_image_url = ainews_image_extractor.extract()\n",
    "\n",
    "ai_news_image_url"
   ]
  },
  {
   "cell_type": "code",
   "execution_count": 5,
   "id": "6e6454b2",
   "metadata": {},
   "outputs": [
    {
     "data": {
      "text/plain": [
       "'https://news.mit.edu/sites/default/files/styles/news_article__image_gallery/public/images/202509/Entero3.png?itok=VztGSs5y'"
      ]
     },
     "execution_count": 5,
     "metadata": {},
     "output_type": "execute_result"
    }
   ],
   "source": [
    "mit_news_url = \"https://news.mit.edu/2025/ai-maps-how-new-antibiotic-targets-gut-bacteria-1003\"\n",
    "mitnews_image_extractor = MITImageExtractor(news_url=mit_news_url)\n",
    "\n",
    "mit_news_image_url = mitnews_image_extractor.extract()\n",
    "mit_news_image_url"
   ]
  },
  {
   "cell_type": "code",
   "execution_count": null,
   "id": "8328238d",
   "metadata": {},
   "outputs": [],
   "source": []
  }
 ],
 "metadata": {
  "kernelspec": {
   "display_name": "ai-hub-sharepoint-agent",
   "language": "python",
   "name": "python3"
  },
  "language_info": {
   "codemirror_mode": {
    "name": "ipython",
    "version": 3
   },
   "file_extension": ".py",
   "mimetype": "text/x-python",
   "name": "python",
   "nbconvert_exporter": "python",
   "pygments_lexer": "ipython3",
   "version": "3.12.11"
  }
 },
 "nbformat": 4,
 "nbformat_minor": 5
}
