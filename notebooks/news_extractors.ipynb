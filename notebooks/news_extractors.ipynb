{
 "cells": [
  {
   "cell_type": "markdown",
   "id": "1a20b991",
   "metadata": {},
   "source": [
    "## News Extractors\n",
    "\n",
    "This notebook is to test the NewsExtractor class created to retrieve news based on an specific feed_url, which is the url that contains a list of news"
   ]
  },
  {
   "cell_type": "code",
   "execution_count": 1,
   "id": "582f1489",
   "metadata": {},
   "outputs": [
    {
     "data": {
      "text/plain": [
       "True"
      ]
     },
     "execution_count": 1,
     "metadata": {},
     "output_type": "execute_result"
    }
   ],
   "source": [
    "import sys\n",
    "import os\n",
    "from dotenv import load_dotenv\n",
    "\n",
    "sys.path.append(\"..\")\n",
    "\n",
    "from ai_news_pipeline.extractors.news.news_extractors import NewsExtractor\n",
    "from ai_news_pipeline.config import AINewsConfig\n",
    "\n",
    "load_dotenv()"
   ]
  },
  {
   "cell_type": "code",
   "execution_count": 2,
   "id": "e88cb2a6",
   "metadata": {},
   "outputs": [],
   "source": [
    "news_config = AINewsConfig()"
   ]
  },
  {
   "cell_type": "markdown",
   "id": "5d1d7bde",
   "metadata": {},
   "source": [
    "## Instanciate a NewsExtractor class\n",
    "\n",
    "By instanciating a NewsExtractor class once, it can handle multiple feed_urls\n",
    "\n",
    "- The NewsExtractor automatically chooses an ImageExtractor class based on the feed_url"
   ]
  },
  {
   "cell_type": "code",
   "execution_count": null,
   "id": "3f23a3fd",
   "metadata": {},
   "outputs": [],
   "source": [
    "general_news_extractor = NewsExtractor()"
   ]
  },
  {
   "cell_type": "code",
   "execution_count": 4,
   "id": "e419a8f6",
   "metadata": {},
   "outputs": [
    {
     "name": "stderr",
     "output_type": "stream",
     "text": [
      "\u001b[32m2025-10-08 12:04:30.645\u001b[0m | \u001b[1mINFO    \u001b[0m | \u001b[36mai_news_pipeline.extractors.image_url.extractor_selector\u001b[0m:\u001b[36mget_extractor\u001b[0m:\u001b[36m73\u001b[0m - \u001b[1mExtractor 'MITImageExtractor' selected for base URL: https://news.mit.edu\u001b[0m\n"
     ]
    }
   ],
   "source": [
    "mit_news_extractor = NewsExtractor(feed_url=news_config.MIT_NEWS_FEED_URL)"
   ]
  },
  {
   "cell_type": "markdown",
   "id": "beea5678",
   "metadata": {},
   "source": [
    "## Get the raw parsed data from the Feed URL"
   ]
  },
  {
   "cell_type": "code",
   "execution_count": 5,
   "id": "28b416aa",
   "metadata": {},
   "outputs": [
    {
     "name": "stderr",
     "output_type": "stream",
     "text": [
      "\u001b[32m2025-10-08 12:04:46.903\u001b[0m | \u001b[1mINFO    \u001b[0m | \u001b[36mai_news_pipeline.extractors.news.news_extractors\u001b[0m:\u001b[36m_get_articles\u001b[0m:\u001b[36m88\u001b[0m - \u001b[1m12 articles extracted\u001b[0m\n"
     ]
    }
   ],
   "source": [
    "ai_news_extractor._get_articles()"
   ]
  },
  {
   "cell_type": "code",
   "execution_count": 6,
   "id": "2abc088f",
   "metadata": {},
   "outputs": [
    {
     "name": "stdout",
     "output_type": "stream",
     "text": [
      "12 articles  obtained...\n"
     ]
    },
    {
     "data": {
      "text/html": [
       "<div>\n",
       "<style scoped>\n",
       "    .dataframe tbody tr th:only-of-type {\n",
       "        vertical-align: middle;\n",
       "    }\n",
       "\n",
       "    .dataframe tbody tr th {\n",
       "        vertical-align: top;\n",
       "    }\n",
       "\n",
       "    .dataframe thead th {\n",
       "        text-align: right;\n",
       "    }\n",
       "</style>\n",
       "<table border=\"1\" class=\"dataframe\">\n",
       "  <thead>\n",
       "    <tr style=\"text-align: right;\">\n",
       "      <th></th>\n",
       "      <th>title</th>\n",
       "      <th>news_link</th>\n",
       "      <th>image_link</th>\n",
       "      <th>publish_date</th>\n",
       "    </tr>\n",
       "  </thead>\n",
       "  <tbody>\n",
       "    <tr>\n",
       "      <th>0</th>\n",
       "      <td>Samsungs tiny AI model beats giant reasoning LLMs</td>\n",
       "      <td>https://www.artificialintelligence-news.com/ne...</td>\n",
       "      <td>https://www.artificialintelligence-news.com/wp...</td>\n",
       "      <td>2025-10-08 11:55:19+00:00</td>\n",
       "    </tr>\n",
       "    <tr>\n",
       "      <th>1</th>\n",
       "      <td>Tuned Global strengthens its leadership in mus...</td>\n",
       "      <td>https://www.artificialintelligence-news.com/ne...</td>\n",
       "      <td>https://www.artificialintelligence-news.com/wp...</td>\n",
       "      <td>2025-10-08 10:37:29+00:00</td>\n",
       "    </tr>\n",
       "    <tr>\n",
       "      <th>2</th>\n",
       "      <td>AI Redaction That Puts Privacy First: CaseGuar...</td>\n",
       "      <td>https://www.artificialintelligence-news.com/ne...</td>\n",
       "      <td>https://www.artificialintelligence-news.com/wp...</td>\n",
       "      <td>2025-10-08 09:07:44+00:00</td>\n",
       "    </tr>\n",
       "  </tbody>\n",
       "</table>\n",
       "</div>"
      ],
      "text/plain": [
       "                                               title  \\\n",
       "0  Samsungs tiny AI model beats giant reasoning LLMs   \n",
       "1  Tuned Global strengthens its leadership in mus...   \n",
       "2  AI Redaction That Puts Privacy First: CaseGuar...   \n",
       "\n",
       "                                           news_link  \\\n",
       "0  https://www.artificialintelligence-news.com/ne...   \n",
       "1  https://www.artificialintelligence-news.com/ne...   \n",
       "2  https://www.artificialintelligence-news.com/ne...   \n",
       "\n",
       "                                          image_link              publish_date  \n",
       "0  https://www.artificialintelligence-news.com/wp... 2025-10-08 11:55:19+00:00  \n",
       "1  https://www.artificialintelligence-news.com/wp... 2025-10-08 10:37:29+00:00  \n",
       "2  https://www.artificialintelligence-news.com/wp... 2025-10-08 09:07:44+00:00  "
      ]
     },
     "execution_count": 6,
     "metadata": {},
     "output_type": "execute_result"
    }
   ],
   "source": [
    "n_aiarticles = len(ai_news_extractor.current_data)\n",
    "print(f\"{n_aiarticles} articles  obtained...\")\n",
    "ai_news_extractor.current_data.head(min(n_aiarticles, 3))"
   ]
  },
  {
   "cell_type": "markdown",
   "id": "445f35f2",
   "metadata": {},
   "source": [
    "If the feed_url does not contains an image extractor class suited for it, it will retrieve only the available data\n",
    "\n",
    "This is because the image is extracted directly from the HTML of the webpage, and each one has a different structure with different components"
   ]
  },
  {
   "cell_type": "code",
   "execution_count": 7,
   "id": "d7b32a04",
   "metadata": {},
   "outputs": [
    {
     "name": "stderr",
     "output_type": "stream",
     "text": [
      "\u001b[32m2025-10-08 12:04:46.929\u001b[0m | \u001b[33m\u001b[1mWARNING \u001b[0m | \u001b[36mai_news_pipeline.extractors.image_url.extractor_selector\u001b[0m:\u001b[36mget_extractor\u001b[0m:\u001b[36m68\u001b[0m - \u001b[33m\u001b[1mNo image extractor found for the url: https://www.xataka.com/feedburner.xml. The data retrieve will not contain an image_url\u001b[0m\n"
     ]
    }
   ],
   "source": [
    "# Example of feed url that does not have a specific ImageExtractor class\n",
    "xataka_feed_url = \"https://www.xataka.com/feedburner.xml\"\n",
    "\n",
    "xataka_news_extractor = NewsExtractor(feed_url = xataka_feed_url)"
   ]
  },
  {
   "cell_type": "code",
   "execution_count": 8,
   "id": "bd90ceaa",
   "metadata": {},
   "outputs": [
    {
     "name": "stderr",
     "output_type": "stream",
     "text": [
      "\u001b[32m2025-10-08 12:04:47.403\u001b[0m | \u001b[1mINFO    \u001b[0m | \u001b[36mai_news_pipeline.extractors.news.news_extractors\u001b[0m:\u001b[36m_get_articles\u001b[0m:\u001b[36m88\u001b[0m - \u001b[1m26 articles extracted\u001b[0m\n"
     ]
    }
   ],
   "source": [
    "xataka_news_extractor._get_articles()"
   ]
  },
  {
   "cell_type": "code",
   "execution_count": 9,
   "id": "c731e408",
   "metadata": {},
   "outputs": [
    {
     "name": "stdout",
     "output_type": "stream",
     "text": [
      "26 articles obtained...\n"
     ]
    },
    {
     "data": {
      "text/html": [
       "<div>\n",
       "<style scoped>\n",
       "    .dataframe tbody tr th:only-of-type {\n",
       "        vertical-align: middle;\n",
       "    }\n",
       "\n",
       "    .dataframe tbody tr th {\n",
       "        vertical-align: top;\n",
       "    }\n",
       "\n",
       "    .dataframe thead th {\n",
       "        text-align: right;\n",
       "    }\n",
       "</style>\n",
       "<table border=\"1\" class=\"dataframe\">\n",
       "  <thead>\n",
       "    <tr style=\"text-align: right;\">\n",
       "      <th></th>\n",
       "      <th>title</th>\n",
       "      <th>news_link</th>\n",
       "      <th>image_link</th>\n",
       "      <th>publish_date</th>\n",
       "    </tr>\n",
       "  </thead>\n",
       "  <tbody>\n",
       "    <tr>\n",
       "      <th>0</th>\n",
       "      <td>\"Son cosas por las que un universitario se met...</td>\n",
       "      <td>https://www.xataka.com/robotica-e-ia/cosas-que...</td>\n",
       "      <td>None</td>\n",
       "      <td>2025-10-08 20:01:43+02:00</td>\n",
       "    </tr>\n",
       "    <tr>\n",
       "      <th>1</th>\n",
       "      <td>La justicia da la razón a los empleados de Hol...</td>\n",
       "      <td>https://www.xataka.com/empresas-y-economia/jus...</td>\n",
       "      <td>None</td>\n",
       "      <td>2025-10-08 19:40:24+02:00</td>\n",
       "    </tr>\n",
       "    <tr>\n",
       "      <th>2</th>\n",
       "      <td>Hace cinco años trabajaba desde su baño al bor...</td>\n",
       "      <td>https://www.xataka.com/empresas-y-economia/hac...</td>\n",
       "      <td>None</td>\n",
       "      <td>2025-10-08 19:31:43+02:00</td>\n",
       "    </tr>\n",
       "  </tbody>\n",
       "</table>\n",
       "</div>"
      ],
      "text/plain": [
       "                                               title  \\\n",
       "0  \"Son cosas por las que un universitario se met...   \n",
       "1  La justicia da la razón a los empleados de Hol...   \n",
       "2  Hace cinco años trabajaba desde su baño al bor...   \n",
       "\n",
       "                                           news_link image_link  \\\n",
       "0  https://www.xataka.com/robotica-e-ia/cosas-que...       None   \n",
       "1  https://www.xataka.com/empresas-y-economia/jus...       None   \n",
       "2  https://www.xataka.com/empresas-y-economia/hac...       None   \n",
       "\n",
       "               publish_date  \n",
       "0 2025-10-08 20:01:43+02:00  \n",
       "1 2025-10-08 19:40:24+02:00  \n",
       "2 2025-10-08 19:31:43+02:00  "
      ]
     },
     "execution_count": 9,
     "metadata": {},
     "output_type": "execute_result"
    }
   ],
   "source": [
    "n_aiarticles = len(xataka_news_extractor.current_data)\n",
    "print(f\"{n_aiarticles} articles obtained...\")\n",
    "xataka_news_extractor.current_data.head(min(n_aiarticles, 3))"
   ]
  },
  {
   "cell_type": "code",
   "execution_count": 10,
   "id": "6cf8770a",
   "metadata": {},
   "outputs": [
    {
     "data": {
      "text/plain": [
       "0    True\n",
       "1    True\n",
       "2    True\n",
       "3    True\n",
       "4    True\n",
       "Name: image_link, dtype: bool"
      ]
     },
     "execution_count": 10,
     "metadata": {},
     "output_type": "execute_result"
    }
   ],
   "source": [
    "xataka_news_extractor.current_data.image_link.isnull().head()"
   ]
  },
  {
   "cell_type": "markdown",
   "id": "748e2107",
   "metadata": {},
   "source": [
    "If the feed_url contains a invalid url to retrieve the data, it will display an error log"
   ]
  },
  {
   "cell_type": "code",
   "execution_count": 11,
   "id": "63589250",
   "metadata": {},
   "outputs": [
    {
     "name": "stderr",
     "output_type": "stream",
     "text": [
      "\u001b[32m2025-10-08 12:04:47.446\u001b[0m | \u001b[33m\u001b[1mWARNING \u001b[0m | \u001b[36mai_news_pipeline.extractors.image_url.extractor_selector\u001b[0m:\u001b[36mget_extractor\u001b[0m:\u001b[36m68\u001b[0m - \u001b[33m\u001b[1mNo image extractor found for the url: https://techcrunch.com/category/artificial-intelligence/. The data retrieve will not contain an image_url\u001b[0m\n"
     ]
    }
   ],
   "source": [
    "wrong_feed_url = \"https://techcrunch.com/category/artificial-intelligence/\"\n",
    "bad_news_extractor = NewsExtractor(feed_url=wrong_feed_url)"
   ]
  },
  {
   "cell_type": "code",
   "execution_count": 12,
   "id": "4fb69b3e",
   "metadata": {},
   "outputs": [
    {
     "name": "stderr",
     "output_type": "stream",
     "text": [
      "\u001b[32m2025-10-08 12:04:48.536\u001b[0m | \u001b[31m\u001b[1mERROR   \u001b[0m | \u001b[36mai_news_pipeline.extractors.news.news_extractors\u001b[0m:\u001b[36m_get_articles\u001b[0m:\u001b[36m96\u001b[0m - \u001b[31m\u001b[1mNo articles extracted from https://techcrunch.com/category/artificial-intelligence/  Make sure the url is RSS-compatible\u001b[0m\n"
     ]
    }
   ],
   "source": [
    "bad_news_extractor._get_articles()"
   ]
  },
  {
   "cell_type": "markdown",
   "id": "00e48ad5",
   "metadata": {},
   "source": [
    "## Filter the data based on keywords"
   ]
  },
  {
   "cell_type": "code",
   "execution_count": 13,
   "id": "19781593",
   "metadata": {},
   "outputs": [
    {
     "name": "stderr",
     "output_type": "stream",
     "text": [
      "\u001b[32m2025-10-08 12:04:48.541\u001b[0m | \u001b[1mINFO    \u001b[0m | \u001b[36mai_news_pipeline.extractors.news.news_extractors\u001b[0m:\u001b[36m_filter_title_by_keywords\u001b[0m:\u001b[36m134\u001b[0m - \u001b[1mFiltering articles by the next parameters...\u001b[0m\n",
      "\u001b[32m2025-10-08 12:04:48.541\u001b[0m | \u001b[1mINFO    \u001b[0m | \u001b[36mai_news_pipeline.extractors.news.news_extractors\u001b[0m:\u001b[36m_filter_title_by_keywords\u001b[0m:\u001b[36m135\u001b[0m - \u001b[1mcase_sen_search_kw =[' AI ', 'AI ', 'AI ', 'A.I.', ' AI-', 'AI-']\u001b[0m\n",
      "\u001b[32m2025-10-08 12:04:48.541\u001b[0m | \u001b[1mINFO    \u001b[0m | \u001b[36mai_news_pipeline.extractors.news.news_extractors\u001b[0m:\u001b[36m_filter_title_by_keywords\u001b[0m:\u001b[36m136\u001b[0m - \u001b[1mcase_insen_search_kw =['Artificial Intelligence', 'Machine Learning', 'Deep Learning', 'Neural Networks', 'NLP', 'Computer Vision', 'Data Science', 'Gemini', 'Bard', 'ChatGPT', 'GPT-4', 'DALL-E', 'MidJourney', 'Stable Diffusion', 'Claude', 'LLaMA', 'Whisper']\u001b[0m\n",
      "\u001b[32m2025-10-08 12:04:48.541\u001b[0m | \u001b[1mINFO    \u001b[0m | \u001b[36mai_news_pipeline.extractors.news.news_extractors\u001b[0m:\u001b[36m_filter_title_by_keywords\u001b[0m:\u001b[36m155\u001b[0m - \u001b[1mKeyword filtering complete. 10 articles matched the criteria.\u001b[0m\n"
     ]
    }
   ],
   "source": [
    "ai_news_extractor._filter_title_by_keywords()"
   ]
  },
  {
   "cell_type": "code",
   "execution_count": 14,
   "id": "ac4c0ef5",
   "metadata": {},
   "outputs": [
    {
     "name": "stdout",
     "output_type": "stream",
     "text": [
      "10 articles  after filtering...\n"
     ]
    },
    {
     "data": {
      "text/html": [
       "<div>\n",
       "<style scoped>\n",
       "    .dataframe tbody tr th:only-of-type {\n",
       "        vertical-align: middle;\n",
       "    }\n",
       "\n",
       "    .dataframe tbody tr th {\n",
       "        vertical-align: top;\n",
       "    }\n",
       "\n",
       "    .dataframe thead th {\n",
       "        text-align: right;\n",
       "    }\n",
       "</style>\n",
       "<table border=\"1\" class=\"dataframe\">\n",
       "  <thead>\n",
       "    <tr style=\"text-align: right;\">\n",
       "      <th></th>\n",
       "      <th>title</th>\n",
       "      <th>news_link</th>\n",
       "      <th>image_link</th>\n",
       "      <th>publish_date</th>\n",
       "    </tr>\n",
       "  </thead>\n",
       "  <tbody>\n",
       "    <tr>\n",
       "      <th>0</th>\n",
       "      <td>Samsungs tiny AI model beats giant reasoning LLMs</td>\n",
       "      <td>https://www.artificialintelligence-news.com/ne...</td>\n",
       "      <td>https://www.artificialintelligence-news.com/wp...</td>\n",
       "      <td>2025-10-08 11:55:19+00:00</td>\n",
       "    </tr>\n",
       "    <tr>\n",
       "      <th>1</th>\n",
       "      <td>AI Redaction That Puts Privacy First: CaseGuar...</td>\n",
       "      <td>https://www.artificialintelligence-news.com/ne...</td>\n",
       "      <td>https://www.artificialintelligence-news.com/wp...</td>\n",
       "      <td>2025-10-08 09:07:44+00:00</td>\n",
       "    </tr>\n",
       "    <tr>\n",
       "      <th>2</th>\n",
       "      <td>How AI is changing the way we travel</td>\n",
       "      <td>https://www.artificialintelligence-news.com/ne...</td>\n",
       "      <td>https://www.artificialintelligence-news.com/wp...</td>\n",
       "      <td>2025-10-07 11:00:00+00:00</td>\n",
       "    </tr>\n",
       "  </tbody>\n",
       "</table>\n",
       "</div>"
      ],
      "text/plain": [
       "                                               title  \\\n",
       "0  Samsungs tiny AI model beats giant reasoning LLMs   \n",
       "1  AI Redaction That Puts Privacy First: CaseGuar...   \n",
       "2               How AI is changing the way we travel   \n",
       "\n",
       "                                           news_link  \\\n",
       "0  https://www.artificialintelligence-news.com/ne...   \n",
       "1  https://www.artificialintelligence-news.com/ne...   \n",
       "2  https://www.artificialintelligence-news.com/ne...   \n",
       "\n",
       "                                          image_link              publish_date  \n",
       "0  https://www.artificialintelligence-news.com/wp... 2025-10-08 11:55:19+00:00  \n",
       "1  https://www.artificialintelligence-news.com/wp... 2025-10-08 09:07:44+00:00  \n",
       "2  https://www.artificialintelligence-news.com/wp... 2025-10-07 11:00:00+00:00  "
      ]
     },
     "execution_count": 14,
     "metadata": {},
     "output_type": "execute_result"
    }
   ],
   "source": [
    "n_aiarticles = len(ai_news_extractor.current_data)\n",
    "print(f\"{n_aiarticles} articles  after filtering...\")\n",
    "ai_news_extractor.current_data.head(min(n_aiarticles, 3))"
   ]
  },
  {
   "cell_type": "code",
   "execution_count": 15,
   "id": "e89c4eb7",
   "metadata": {},
   "outputs": [
    {
     "name": "stderr",
     "output_type": "stream",
     "text": [
      "\u001b[32m2025-10-08 12:04:48.573\u001b[0m | \u001b[31m\u001b[1mERROR   \u001b[0m | \u001b[36mai_news_pipeline.extractors.news.news_extractors\u001b[0m:\u001b[36m_filter_title_by_keywords\u001b[0m:\u001b[36m128\u001b[0m - \u001b[31m\u001b[1mNo data found. Please run '_get_articles()' before calling this method.\u001b[0m\n"
     ]
    }
   ],
   "source": [
    "bad_news_extractor._filter_title_by_keywords()"
   ]
  },
  {
   "cell_type": "markdown",
   "id": "3d74d44d",
   "metadata": {},
   "source": [
    "## Filter the data based on the publish date"
   ]
  },
  {
   "cell_type": "code",
   "execution_count": 16,
   "id": "593bef67",
   "metadata": {},
   "outputs": [
    {
     "name": "stderr",
     "output_type": "stream",
     "text": [
      "\u001b[32m2025-10-08 12:04:48.580\u001b[0m | \u001b[1mINFO    \u001b[0m | \u001b[36mai_news_pipeline.extractors.news.news_extractors\u001b[0m:\u001b[36m_filter_by_age\u001b[0m:\u001b[36m181\u001b[0m - \u001b[1mFiltering articles published within the last 7 days.\u001b[0m\n",
      "\u001b[32m2025-10-08 12:04:48.582\u001b[0m | \u001b[1mINFO    \u001b[0m | \u001b[36mai_news_pipeline.extractors.news.news_extractors\u001b[0m:\u001b[36m_filter_by_age\u001b[0m:\u001b[36m197\u001b[0m - \u001b[1mDate filtering complete. 5 articles published within the allowed range.\u001b[0m\n"
     ]
    }
   ],
   "source": [
    "ai_news_extractor._filter_by_age(max_days_old=7)"
   ]
  },
  {
   "cell_type": "code",
   "execution_count": 17,
   "id": "b4347247",
   "metadata": {},
   "outputs": [
    {
     "name": "stderr",
     "output_type": "stream",
     "text": [
      "\u001b[32m2025-10-08 12:04:48.588\u001b[0m | \u001b[31m\u001b[1mERROR   \u001b[0m | \u001b[36mai_news_pipeline.extractors.news.news_extractors\u001b[0m:\u001b[36m_filter_by_age\u001b[0m:\u001b[36m175\u001b[0m - \u001b[31m\u001b[1mNo data found. Please run '_get_articles()' before calling this method.\u001b[0m\n"
     ]
    }
   ],
   "source": [
    "bad_news_extractor._filter_by_age()"
   ]
  },
  {
   "cell_type": "markdown",
   "id": "9755a488",
   "metadata": {},
   "source": [
    "## Storing the data in an excel file"
   ]
  },
  {
   "cell_type": "code",
   "execution_count": 18,
   "id": "7b6b552c",
   "metadata": {},
   "outputs": [
    {
     "name": "stderr",
     "output_type": "stream",
     "text": [
      "\u001b[32m2025-10-08 12:04:48.617\u001b[0m | \u001b[1mINFO    \u001b[0m | \u001b[36mai_news_pipeline.extractors.news.news_extractors\u001b[0m:\u001b[36m_store_to_excel\u001b[0m:\u001b[36m242\u001b[0m - \u001b[1mArticles successfully stored\u001b[0m\n"
     ]
    }
   ],
   "source": [
    "ai_news_extractor._store_to_excel(local_file_path=os.getenv(\"AI_NEWS_FILE_PATH\"))"
   ]
  },
  {
   "cell_type": "markdown",
   "id": "4e516671",
   "metadata": {},
   "source": [
    "## Do all the previous steps with one method"
   ]
  },
  {
   "cell_type": "code",
   "execution_count": 19,
   "id": "15ea96f1",
   "metadata": {},
   "outputs": [
    {
     "name": "stderr",
     "output_type": "stream",
     "text": [
      "\u001b[32m2025-10-08 12:04:48.627\u001b[0m | \u001b[1mINFO    \u001b[0m | \u001b[36mai_news_pipeline.extractors.news.news_extractors\u001b[0m:\u001b[36mextract\u001b[0m:\u001b[36m274\u001b[0m - \u001b[1mStarting articles extraction...\u001b[0m\n",
      "\u001b[32m2025-10-08 12:05:04.531\u001b[0m | \u001b[1mINFO    \u001b[0m | \u001b[36mai_news_pipeline.extractors.news.news_extractors\u001b[0m:\u001b[36m_get_articles\u001b[0m:\u001b[36m88\u001b[0m - \u001b[1m12 articles extracted\u001b[0m\n",
      "\u001b[32m2025-10-08 12:05:04.533\u001b[0m | \u001b[1mINFO    \u001b[0m | \u001b[36mai_news_pipeline.extractors.news.news_extractors\u001b[0m:\u001b[36m_filter_title_by_keywords\u001b[0m:\u001b[36m134\u001b[0m - \u001b[1mFiltering articles by the next parameters...\u001b[0m\n",
      "\u001b[32m2025-10-08 12:05:04.533\u001b[0m | \u001b[1mINFO    \u001b[0m | \u001b[36mai_news_pipeline.extractors.news.news_extractors\u001b[0m:\u001b[36m_filter_title_by_keywords\u001b[0m:\u001b[36m135\u001b[0m - \u001b[1mcase_sen_search_kw =[' AI ', 'AI ', 'AI ', 'A.I.', ' AI-', 'AI-']\u001b[0m\n",
      "\u001b[32m2025-10-08 12:05:04.533\u001b[0m | \u001b[1mINFO    \u001b[0m | \u001b[36mai_news_pipeline.extractors.news.news_extractors\u001b[0m:\u001b[36m_filter_title_by_keywords\u001b[0m:\u001b[36m136\u001b[0m - \u001b[1mcase_insen_search_kw =['Artificial Intelligence', 'Machine Learning', 'Deep Learning', 'Neural Networks', 'NLP', 'Computer Vision', 'Data Science', 'Gemini', 'Bard', 'ChatGPT', 'GPT-4', 'DALL-E', 'MidJourney', 'Stable Diffusion', 'Claude', 'LLaMA', 'Whisper']\u001b[0m\n",
      "\u001b[32m2025-10-08 12:05:04.533\u001b[0m | \u001b[1mINFO    \u001b[0m | \u001b[36mai_news_pipeline.extractors.news.news_extractors\u001b[0m:\u001b[36m_filter_title_by_keywords\u001b[0m:\u001b[36m155\u001b[0m - \u001b[1mKeyword filtering complete. 10 articles matched the criteria.\u001b[0m\n",
      "\u001b[32m2025-10-08 12:05:04.533\u001b[0m | \u001b[1mINFO    \u001b[0m | \u001b[36mai_news_pipeline.extractors.news.news_extractors\u001b[0m:\u001b[36m_filter_by_age\u001b[0m:\u001b[36m181\u001b[0m - \u001b[1mFiltering articles published within the last 2 days.\u001b[0m\n",
      "\u001b[32m2025-10-08 12:05:04.533\u001b[0m | \u001b[1mINFO    \u001b[0m | \u001b[36mai_news_pipeline.extractors.news.news_extractors\u001b[0m:\u001b[36m_filter_by_age\u001b[0m:\u001b[36m197\u001b[0m - \u001b[1mDate filtering complete. 3 articles published within the allowed range.\u001b[0m\n",
      "\u001b[32m2025-10-08 12:05:04.553\u001b[0m | \u001b[1mINFO    \u001b[0m | \u001b[36mai_news_pipeline.extractors.news.news_extractors\u001b[0m:\u001b[36m_store_to_excel\u001b[0m:\u001b[36m242\u001b[0m - \u001b[1mArticles successfully stored\u001b[0m\n",
      "\u001b[32m2025-10-08 12:05:04.554\u001b[0m | \u001b[1mINFO    \u001b[0m | \u001b[36mai_news_pipeline.extractors.news.news_extractors\u001b[0m:\u001b[36mextract\u001b[0m:\u001b[36m301\u001b[0m - \u001b[1mArticles extraction completed\u001b[0m\n"
     ]
    }
   ],
   "source": [
    "ai_news_extractor.extract(local_file_path=os.getenv(\"AI_NEWS_FILE_PATH\"))"
   ]
  },
  {
   "cell_type": "code",
   "execution_count": null,
   "id": "d193749b",
   "metadata": {},
   "outputs": [],
   "source": [
    "ai_news_extractor"
   ]
  },
  {
   "cell_type": "markdown",
   "id": "247ebd08",
   "metadata": {},
   "source": [
    "You can also select not to store the articles in an excel file"
   ]
  },
  {
   "cell_type": "code",
   "execution_count": 20,
   "id": "4a503c89",
   "metadata": {},
   "outputs": [
    {
     "name": "stderr",
     "output_type": "stream",
     "text": [
      "\u001b[32m2025-10-08 12:05:04.563\u001b[0m | \u001b[1mINFO    \u001b[0m | \u001b[36mai_news_pipeline.extractors.news.news_extractors\u001b[0m:\u001b[36mextract\u001b[0m:\u001b[36m274\u001b[0m - \u001b[1mStarting articles extraction...\u001b[0m\n",
      "\u001b[32m2025-10-08 12:05:33.088\u001b[0m | \u001b[1mINFO    \u001b[0m | \u001b[36mai_news_pipeline.extractors.news.news_extractors\u001b[0m:\u001b[36m_get_articles\u001b[0m:\u001b[36m88\u001b[0m - \u001b[1m50 articles extracted\u001b[0m\n",
      "\u001b[32m2025-10-08 12:05:33.103\u001b[0m | \u001b[1mINFO    \u001b[0m | \u001b[36mai_news_pipeline.extractors.news.news_extractors\u001b[0m:\u001b[36m_filter_title_by_keywords\u001b[0m:\u001b[36m134\u001b[0m - \u001b[1mFiltering articles by the next parameters...\u001b[0m\n",
      "\u001b[32m2025-10-08 12:05:33.106\u001b[0m | \u001b[1mINFO    \u001b[0m | \u001b[36mai_news_pipeline.extractors.news.news_extractors\u001b[0m:\u001b[36m_filter_title_by_keywords\u001b[0m:\u001b[36m135\u001b[0m - \u001b[1mcase_sen_search_kw =[' AI ', 'AI ', 'AI ', 'A.I.', ' AI-', 'AI-']\u001b[0m\n",
      "\u001b[32m2025-10-08 12:05:33.107\u001b[0m | \u001b[1mINFO    \u001b[0m | \u001b[36mai_news_pipeline.extractors.news.news_extractors\u001b[0m:\u001b[36m_filter_title_by_keywords\u001b[0m:\u001b[36m136\u001b[0m - \u001b[1mcase_insen_search_kw =['Artificial Intelligence', 'Machine Learning', 'Deep Learning', 'Neural Networks', 'NLP', 'Computer Vision', 'Data Science', 'Gemini', 'Bard', 'ChatGPT', 'GPT-4', 'DALL-E', 'MidJourney', 'Stable Diffusion', 'Claude', 'LLaMA', 'Whisper']\u001b[0m\n",
      "\u001b[32m2025-10-08 12:05:33.108\u001b[0m | \u001b[1mINFO    \u001b[0m | \u001b[36mai_news_pipeline.extractors.news.news_extractors\u001b[0m:\u001b[36m_filter_title_by_keywords\u001b[0m:\u001b[36m155\u001b[0m - \u001b[1mKeyword filtering complete. 6 articles matched the criteria.\u001b[0m\n",
      "\u001b[32m2025-10-08 12:05:33.108\u001b[0m | \u001b[1mINFO    \u001b[0m | \u001b[36mai_news_pipeline.extractors.news.news_extractors\u001b[0m:\u001b[36m_filter_by_age\u001b[0m:\u001b[36m181\u001b[0m - \u001b[1mFiltering articles published within the last 2 days.\u001b[0m\n",
      "\u001b[32m2025-10-08 12:05:33.108\u001b[0m | \u001b[1mINFO    \u001b[0m | \u001b[36mai_news_pipeline.extractors.news.news_extractors\u001b[0m:\u001b[36m_filter_by_age\u001b[0m:\u001b[36m197\u001b[0m - \u001b[1mDate filtering complete. 1 articles published within the allowed range.\u001b[0m\n",
      "\u001b[32m2025-10-08 12:05:33.108\u001b[0m | \u001b[1mINFO    \u001b[0m | \u001b[36mai_news_pipeline.extractors.news.news_extractors\u001b[0m:\u001b[36mextract\u001b[0m:\u001b[36m299\u001b[0m - \u001b[1mNo data was stored in an excel file\u001b[0m\n",
      "\u001b[32m2025-10-08 12:05:33.108\u001b[0m | \u001b[1mINFO    \u001b[0m | \u001b[36mai_news_pipeline.extractors.news.news_extractors\u001b[0m:\u001b[36mextract\u001b[0m:\u001b[36m301\u001b[0m - \u001b[1mArticles extraction completed\u001b[0m\n"
     ]
    }
   ],
   "source": [
    "mit_news_extractor.extract(store_data=False)"
   ]
  },
  {
   "cell_type": "code",
   "execution_count": null,
   "id": "06e1ec8c",
   "metadata": {},
   "outputs": [],
   "source": []
  }
 ],
 "metadata": {
  "kernelspec": {
   "display_name": "ai-hub-sharepoint-agent",
   "language": "python",
   "name": "python3"
  },
  "language_info": {
   "codemirror_mode": {
    "name": "ipython",
    "version": 3
   },
   "file_extension": ".py",
   "mimetype": "text/x-python",
   "name": "python",
   "nbconvert_exporter": "python",
   "pygments_lexer": "ipython3",
   "version": "3.12.11"
  }
 },
 "nbformat": 4,
 "nbformat_minor": 5
}
