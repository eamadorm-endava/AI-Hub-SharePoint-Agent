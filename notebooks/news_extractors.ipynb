{
 "cells": [
  {
   "cell_type": "markdown",
   "id": "1a20b991",
   "metadata": {},
   "source": [
    "## News Extractors\n",
    "\n",
    "This notebook is to test the NewsExtractor class created to retrieve news based on an specific feed_url, which is the url that contains a list of news"
   ]
  },
  {
   "cell_type": "code",
   "execution_count": 1,
   "id": "582f1489",
   "metadata": {},
   "outputs": [],
   "source": [
    "import sys\n",
    "\n",
    "sys.path.append(\"..\")\n",
    "\n",
    "from ai_news_pipeline.extractors.news.news_extractors import NewsExtractor\n",
    "from ai_news_pipeline.config import AINewsConfig"
   ]
  },
  {
   "cell_type": "code",
   "execution_count": 2,
   "id": "e88cb2a6",
   "metadata": {},
   "outputs": [],
   "source": [
    "news_config = AINewsConfig()"
   ]
  },
  {
   "cell_type": "markdown",
   "id": "5d1d7bde",
   "metadata": {},
   "source": [
    "#### Instance a NewsExtractor class, which will retrieve the articles/news from an specific feed url\n",
    "\n",
    "The NewsExtractor automatically chooses an ImageExtractor class based on the feed_url"
   ]
  },
  {
   "cell_type": "code",
   "execution_count": 3,
   "id": "3f23a3fd",
   "metadata": {},
   "outputs": [
    {
     "name": "stderr",
     "output_type": "stream",
     "text": [
      "\u001b[32m2025-10-08 00:05:14.119\u001b[0m | \u001b[1mINFO    \u001b[0m | \u001b[36mai_news_pipeline.extractors.image_url.extractor_selector\u001b[0m:\u001b[36mget_extractor\u001b[0m:\u001b[36m71\u001b[0m - \u001b[1mExtractor 'AINEWSImageExtractor' selected for base URL: https://www.artificialintelligence-news.com\u001b[0m\n"
     ]
    }
   ],
   "source": [
    "ai_news_extractor = NewsExtractor(feed_url=news_config.AI_NEWS_FEED_URL)"
   ]
  },
  {
   "cell_type": "code",
   "execution_count": 4,
   "id": "2abc088f",
   "metadata": {},
   "outputs": [
    {
     "data": {
      "text/plain": [
       "[{'title': 'How AI is changing the way we travel',\n",
       "  'news_link': 'https://www.artificialintelligence-news.com/news/how-ai-is-changing-the-way-we-travel/',\n",
       "  'image_link': 'https://www.artificialintelligence-news.com/wp-content/uploads/2025/10/From-inspiration-to-itinerary_How-AI-is-rewriting-travel-1024x683.jpg',\n",
       "  'publish_date': 'Tue, 07 Oct 2025 11:00:00 +0000'},\n",
       " {'title': 'Google’s new AI agent rewrites code to automate vulnerability fixes',\n",
       "  'news_link': 'https://www.artificialintelligence-news.com/news/google-new-ai-agent-rewrites-code-automate-vulnerability-fixes/',\n",
       "  'image_link': 'https://www.artificialintelligence-news.com/wp-content/uploads/2025/10/google-ai-agent-fix-code-cybersecurity-infosec-security-coding-programming-software-development-artificial-intelligence-1024x768.jpg',\n",
       "  'publish_date': 'Mon, 06 Oct 2025 13:56:40 +0000'},\n",
       " {'title': 'China Mobile Shanghai launches industry-first 5G-A network monetisation strategy with Huawei',\n",
       "  'news_link': 'https://www.artificialintelligence-news.com/news/5g-a-shanghai-huawei-network-monetization-football/',\n",
       "  'image_link': 'https://www.artificialintelligence-news.com/wp-content/uploads/2025/10/a92e94de-ee49-450d-93f4-e7507d176e0f.jpg.1200.800-1024x683.jpg',\n",
       "  'publish_date': 'Fri, 03 Oct 2025 09:00:00 +0000'},\n",
       " {'title': 'AI causes reduction in users’ brain activity – MIT',\n",
       "  'news_link': 'https://www.artificialintelligence-news.com/news/ai-causes-reduction-in-users-brain-activity-mit/',\n",
       "  'image_link': 'https://www.artificialintelligence-news.com/wp-content/uploads/2025/10/ai-cognitive-hero-1024x683.jpg',\n",
       "  'publish_date': 'Wed, 01 Oct 2025 13:44:30 +0000'},\n",
       " {'title': 'The 5 best AI AppSec tools in 2025',\n",
       "  'news_link': 'https://www.artificialintelligence-news.com/news/the-5-best-ai-appsec-tools-in-2025/',\n",
       "  'image_link': 'https://www.artificialintelligence-news.com/wp-content/uploads/2025/09/Untitled-design-73-1024x573.png',\n",
       "  'publish_date': 'Wed, 01 Oct 2025 12:09:36 +0000'},\n",
       " {'title': 'Why AI phishing detection will define cybersecurity in 2026',\n",
       "  'news_link': 'https://www.artificialintelligence-news.com/news/why-ai-phishing-detection-will-define-cybersecurity-in-2026/',\n",
       "  'image_link': 'https://www.artificialintelligence-news.com/wp-content/uploads/2025/10/adi-goldstein-EUsVwEOsblE-unsplash-1-1024x683.jpg',\n",
       "  'publish_date': 'Wed, 01 Oct 2025 10:07:59 +0000'},\n",
       " {'title': 'Google: EU’s AI adoption lags China amid regulatory hurdles',\n",
       "  'news_link': 'https://www.artificialintelligence-news.com/news/google-eu-ai-adoption-lags-china-amid-regulatory-hurdles/',\n",
       "  'image_link': 'https://www.artificialintelligence-news.com/wp-content/uploads/2025/10/google-eu-ai-adoption-china-regulatory-governance-regulations-artificial-intelligence-politics-europe-government-1024x768.jpg',\n",
       "  'publish_date': 'Wed, 01 Oct 2025 09:54:47 +0000'},\n",
       " {'title': 'The value gap from AI investments is widening dangerously fast',\n",
       "  'news_link': 'https://www.artificialintelligence-news.com/news/value-gap-ai-investments-widening-dangerously-fast/',\n",
       "  'image_link': 'https://www.artificialintelligence-news.com/wp-content/uploads/2025/09/ai-investments-value-gap-enterprise-agentic-ai-bcg-research-report-study-generative-agents-1024x768.jpg',\n",
       "  'publish_date': 'Tue, 30 Sep 2025 12:35:19 +0000'},\n",
       " {'title': 'The rise of algorithmic agriculture? AI steps in',\n",
       "  'news_link': 'https://www.artificialintelligence-news.com/news/the-rise-of-algorithmic-agriculture-ai-steps-in/',\n",
       "  'image_link': 'https://www.artificialintelligence-news.com/wp-content/uploads/2025/09/ai-agriculture-hero-1024x684.jpg',\n",
       "  'publish_date': 'Tue, 30 Sep 2025 11:07:47 +0000'},\n",
       " {'title': 'Inside Huawei’s Shanghai acoustics lab: Where automotive sound engineering meets science',\n",
       "  'news_link': 'https://www.artificialintelligence-news.com/news/huawei-automotive-sound-engineering-lab-shanghai/',\n",
       "  'image_link': 'https://www.artificialintelligence-news.com/wp-content/uploads/2025/09/2-Inside-of-luxury-sedan-1024x682.jpg',\n",
       "  'publish_date': 'Tue, 30 Sep 2025 08:30:00 +0000'},\n",
       " {'title': 'Rising AI demands push Asia Pacific data centres to adapt, says Vertiv',\n",
       "  'news_link': 'https://www.artificialintelligence-news.com/news/rising-ai-demands-push-asia-pacific-data-centres-to-adapt/',\n",
       "  'image_link': 'https://www.artificialintelligence-news.com/wp-content/uploads/2025/09/Rising-AI-demands-push-Asia-Pacific-data-centres-to-adapt-1024x589.jpg',\n",
       "  'publish_date': 'Tue, 30 Sep 2025 08:15:55 +0000'},\n",
       " {'title': 'Reply’s pre-built AI apps aim to fast-track AI adoption',\n",
       "  'news_link': 'https://www.artificialintelligence-news.com/news/replys-pre-built-ai-apps-aim-to-fast-track-ai-adoption/',\n",
       "  'image_link': 'https://www.artificialintelligence-news.com/wp-content/uploads/2025/09/reply-prebuilt-hero-1024x636.jpg',\n",
       "  'publish_date': 'Tue, 30 Sep 2025 08:13:03 +0000'}]"
      ]
     },
     "execution_count": 4,
     "metadata": {},
     "output_type": "execute_result"
    }
   ],
   "source": [
    "ai_news_extractor._get_raw_parsed_data()"
   ]
  },
  {
   "cell_type": "markdown",
   "id": "445f35f2",
   "metadata": {},
   "source": [
    "If the feed_url does not contains an image extractor class suited for it, it will retrieve only the available data\n",
    "\n",
    "This is because the image is extracted directly from the HTML of the webpage, and each one has a different structure with different components"
   ]
  },
  {
   "cell_type": "code",
   "execution_count": 5,
   "id": "d7b32a04",
   "metadata": {},
   "outputs": [
    {
     "name": "stderr",
     "output_type": "stream",
     "text": [
      "\u001b[32m2025-10-08 00:05:32.111\u001b[0m | \u001b[33m\u001b[1mWARNING \u001b[0m | \u001b[36mai_news_pipeline.extractors.image_url.extractor_selector\u001b[0m:\u001b[36mget_extractor\u001b[0m:\u001b[36m68\u001b[0m - \u001b[33m\u001b[1mNo image extractor found for the url: https://www.xataka.com/feedburner.xml. The data retrieve will not contain an image_url\u001b[0m\n"
     ]
    }
   ],
   "source": [
    "# Example of feed url that does not have a specific ImageExtractor class\n",
    "xataka_feed_url = \"https://www.xataka.com/feedburner.xml\"\n",
    "\n",
    "xataka_news_extractor = NewsExtractor(feed_url = xataka_feed_url)"
   ]
  },
  {
   "cell_type": "code",
   "execution_count": 6,
   "id": "c731e408",
   "metadata": {},
   "outputs": [
    {
     "data": {
      "text/plain": [
       "[{'title': 'El BOE confirma que en 2026 las nóminas de los trabajadores se recortarán hasta en 95 euros por un buen motivo: las pensiones',\n",
       "  'news_link': 'https://www.xataka.com/empresas-y-economia/boe-confirma-que-2026-nominas-se-recortaran-95-euros-motivo-pensiones',\n",
       "  'image_link': '',\n",
       "  'publish_date': 'Wed, 08 Oct 2025 08:01:43 +0200'},\n",
       " {'title': 'Cuatro letras explican por qué Tesla no ha lanzado su coche eléctrico de 25.000 euros: NSLC',\n",
       "  'news_link': 'https://www.xataka.com/movilidad/cuatro-siglas-explican-que-tesla-no-ha-lanzado-su-coche-electrico-25-000-euros-nslc',\n",
       "  'image_link': '',\n",
       "  'publish_date': 'Wed, 08 Oct 2025 07:22:10 +0200'},\n",
       " {'title': 'Por si no tenía suficiente con el coche eléctrico, a Europa se le está escapando otro tren: el de los coches autónomos',\n",
       "  'news_link': 'https://www.xataka.com/movilidad/europa-vuelve-a-ir-detras-eeuu-china-otro-mercado-clave-robotaxis-conduccion-autonoma',\n",
       "  'image_link': '',\n",
       "  'publish_date': 'Wed, 08 Oct 2025 06:01:43 +0200'},\n",
       " {'title': 'El método futurista de una prefectura japonesa para frenar la gripe aviar: drones con láser que patrullan granjas',\n",
       "  'news_link': 'https://www.xataka.com/drones/metodo-futurista-prefectura-japonesa-para-frenar-gripe-aviar-drones-laser-que-patrullan-granjas',\n",
       "  'image_link': '',\n",
       "  'publish_date': 'Wed, 08 Oct 2025 00:01:00 +0200'},\n",
       " {'title': 'Tesla acaba de presentar versiones más baratas del Model 3 y Model Y: llegan en plena ofensiva de los eléctricos chinos',\n",
       "  'news_link': 'https://www.xataka.com/movilidad/tesla-acaba-presentar-versiones-baratas-model-3-model-llegan-plena-ofensiva-electricos-chinos',\n",
       "  'image_link': '',\n",
       "  'publish_date': 'Tue, 07 Oct 2025 22:35:28 +0200'},\n",
       " {'title': 'Se acabó hablar de \"gota fría\": AEMET ya tiene la lista de nombres para las DANAs que realmente deben preocuparnos',\n",
       "  'news_link': 'https://www.xataka.com/ecologia-y-naturaleza/se-acabo-hablar-gota-fria-aemet-tiene-lista-nombres-para-danas-que-realmente-deben-preocuparnos',\n",
       "  'image_link': '',\n",
       "  'publish_date': 'Tue, 07 Oct 2025 21:01:43 +0200'},\n",
       " {'title': 'Hace diez años parecía una quimera, hoy es una realidad: hay más electricidad renovable en el mundo que producida por carbón',\n",
       "  'news_link': 'https://www.xataka.com/energia/sorpasso-mundial-renovables-al-carbon-futuro-tiene-sola-direccion-china',\n",
       "  'image_link': '',\n",
       "  'publish_date': 'Tue, 07 Oct 2025 20:31:43 +0200'},\n",
       " {'title': 'Algunos usuarios se librarán del aumento de Xbox Game Pass Ultimate: esto es lo que acaba de decir Microsoft',\n",
       "  'news_link': 'https://www.xataka.com/videojuegos/movimiento-sorpresa-microsoft-algunos-usuarios-se-libraran-aumento-xbox-game-pass-ultimate-the-verge',\n",
       "  'image_link': '',\n",
       "  'publish_date': 'Tue, 07 Oct 2025 20:05:00 +0200'},\n",
       " {'title': 'En Brasil la gente está cambiando las caipiriñas y cócteles por la cerveza. Y tienen un buen motivo: el metanol',\n",
       "  'news_link': 'https://www.xataka.com/magnet/brasil-gente-esta-cambiando-caipirinas-cocteles-cerveza-tienen-buen-motivo-metanol',\n",
       "  'image_link': '',\n",
       "  'publish_date': 'Tue, 07 Oct 2025 19:31:43 +0200'},\n",
       " {'title': '110 años después por fin sabemos qué hundió al Endurance en el Antártico. El culpable no fue el hielo: fue mucho peor',\n",
       "  'news_link': 'https://www.xataka.com/investigacion/110-anos-despues-han-descubierto-que-se-hundio-endurance-antartico-culpable-no-fue-hielo-fue-mucho-peor',\n",
       "  'image_link': '',\n",
       "  'publish_date': 'Tue, 07 Oct 2025 19:01:44 +0200'},\n",
       " {'title': 'Ryan Roslansky, CEO de LinkedIn: \"Los mejores trabajos no serán de quienes estudiaron en las mejores universidades\"',\n",
       "  'news_link': 'https://www.xataka.com/robotica-e-ia/ryan-roslansky-ceo-linkedin-mejores-trabajos-no-seran-quienes-estudiaron-mejores-universidades',\n",
       "  'image_link': '',\n",
       "  'publish_date': 'Tue, 07 Oct 2025 18:31:43 +0200'},\n",
       " {'title': 'Xiaomi ha dado el primer paso para traer su SU7 a Europa: inaugurando un centro de I+D en la ciudad que más sentido tiene',\n",
       "  'news_link': 'https://www.xataka.com/movilidad/xiaomi-ha-dado-primer-paso-para-traer-su-su7-a-europa-inaugurando-centro-i-d-ciudad-que-sentido-tiene',\n",
       "  'image_link': '',\n",
       "  'publish_date': 'Tue, 07 Oct 2025 17:57:43 +0200'},\n",
       " {'title': 'Reino Unido necesita calefacción más barata, así que está sustituyendo calderas de gas por servidores de Raspberry Pi',\n",
       "  'news_link': 'https://www.xataka.com/energia/reino-unido-necesita-calefaccion-barata-asi-que-esta-sustituyendo-calderas-gas-servidores-raspberry-pi',\n",
       "  'image_link': '',\n",
       "  'publish_date': 'Tue, 07 Oct 2025 17:31:43 +0200'},\n",
       " {'title': 'El plan silencioso de Pekín: dejar de importar gas y convertir su subsuelo en la nueva fortaleza energética',\n",
       "  'news_link': 'https://www.xataka.com/energia/plan-silencioso-pekin-dejar-importar-gas-convertir-su-subsuelo-nueva-fortaleza-energetica',\n",
       "  'image_link': '',\n",
       "  'publish_date': 'Tue, 07 Oct 2025 17:01:43 +0200'},\n",
       " {'title': 'Dreame es el rival chino de Dyson. Y ahora va a llegar a España copiando la estrategia de Xiaomi',\n",
       "  'news_link': 'https://www.xataka.com/empresas-y-economia/dreame-rival-chino-dyson-ahora-va-a-llegar-a-espana-copiando-estrategia-xiaomi',\n",
       "  'image_link': '',\n",
       "  'publish_date': 'Tue, 07 Oct 2025 16:31:43 +0200'},\n",
       " {'title': 'Mientras toda España está pendiente de que sus niños aprendan inglés, en Canarias tienen otra obsesión: el alemán',\n",
       "  'news_link': 'https://www.xataka.com/magnet/decadas-turismo-expats-alemanes-canarias-esta-viviendo-fenomeno-curioso-germanizacion-sus-ninos',\n",
       "  'image_link': '',\n",
       "  'publish_date': 'Tue, 07 Oct 2025 16:01:43 +0200'},\n",
       " {'title': 'Se acaba el tiempo: el Choice Day de AliExpress termina esta noche, pero estas chollos siguen disponibles',\n",
       "  'news_link': 'https://www.xataka.com/seleccion/se-acaba-tiempo-choice-day-aliexpress-termina-esta-noche-estas-chollos-siguen-disponibles',\n",
       "  'image_link': '',\n",
       "  'publish_date': 'Tue, 07 Oct 2025 15:45:43 +0200'},\n",
       " {'title': 'El misterio de la subida de precio de Game Pass cada vez está más claro: Black Ops 6 hizo perder 300 millones a Xbox',\n",
       "  'news_link': 'https://www.xataka.com/videojuegos/microsoft-creia-que-compra-activision-era-negocio-redondo-ano-despues-perdia-300-millones-call-of-duty',\n",
       "  'image_link': '',\n",
       "  'publish_date': 'Tue, 07 Oct 2025 15:31:43 +0200'},\n",
       " {'title': '100 años después del nacimiento de la mecánica cuántica, le han dado el Nobel a la gente que mató al gato de Schrödinger',\n",
       "  'news_link': 'https://www.xataka.com/investigacion/gente-que-mato-al-gato-schrodinger-hace-40-anos-tres-investigadores-se-empenaron-desdibujar-fronteras-fisica-cuantica-hoy-han-ganado-nobel',\n",
       "  'image_link': '',\n",
       "  'publish_date': 'Tue, 07 Oct 2025 15:18:58 +0200'},\n",
       " {'title': 'Ucrania ha dividido un tesoro en seis ubicaciones secretas. Si los drones rusos lo encuentran el invierno será especialmente frío',\n",
       "  'news_link': 'https://www.xataka.com/magnet/ucrania-tiene-arma-combatir-invierno-rusia-seis-ubicaciones-secretas-esconden-tesoro-200-megavatios',\n",
       "  'image_link': '',\n",
       "  'publish_date': 'Tue, 07 Oct 2025 15:15:43 +0200'},\n",
       " {'title': 'Qualcomm compra Arduino: es una llamativa apuesta por el futuro del hardware Open Source',\n",
       "  'news_link': 'https://www.xataka.com/makers/qualcomm-compra-arduino-llamativa-apuesta-futuro-hardware-open-source',\n",
       "  'image_link': '',\n",
       "  'publish_date': 'Tue, 07 Oct 2025 15:01:43 +0200'},\n",
       " {'title': 'Al gigante ferroviario español se le escapan contratos millonarios, incluido el metro de Barcelona. La razón: su vínculo con Israel',\n",
       "  'news_link': 'https://www.xataka.com/movilidad/al-gigante-ferroviario-espanol-se-le-escapan-contratos-millonarios-incluido-metro-barcelona-razon-su-vinculo-israel',\n",
       "  'image_link': '',\n",
       "  'publish_date': 'Tue, 07 Oct 2025 14:31:43 +0200'},\n",
       " {'title': 'Elon Musk necesita lanzar Starship desde Florida para acelerar sus planes. El problema: hasta 13.200 vuelos retrasados',\n",
       "  'news_link': 'https://www.xataka.com/espacio/elon-musk-necesita-lanzar-starship-florida-para-acelerar-sus-planes-problema-13-200-vuelos-retrasados',\n",
       "  'image_link': '',\n",
       "  'publish_date': 'Tue, 07 Oct 2025 14:01:43 +0200'},\n",
       " {'title': 'Cómo usar Sora 2 desde España y conseguir invitaciones antes de que llegue oficialmente',\n",
       "  'news_link': 'https://www.xataka.com/basics/como-usar-sora-2-espana-conseguir-invitaciones-llegue-oficialmente',\n",
       "  'image_link': '',\n",
       "  'publish_date': 'Tue, 07 Oct 2025 13:56:32 +0200'},\n",
       " {'title': 'Los hipermercados chinos están en crisis y han encontrado la solución: seguir el modelo Mercadona',\n",
       "  'news_link': 'https://www.xataka.com/empresas-y-economia/era-dorada-hipermercados-china-ha-terminado-su-plan-para-sobrevivir-copiar-estrategia-mercadona',\n",
       "  'image_link': '',\n",
       "  'publish_date': 'Tue, 07 Oct 2025 13:01:43 +0200'},\n",
       " {'title': 'OpenAI es el Rey Midas de la bolsa: todo lo que toca se dispara',\n",
       "  'news_link': 'https://www.xataka.com/empresas-y-economia/openai-rey-midas-bolsa-todo-que-toca-se-dispara',\n",
       "  'image_link': '',\n",
       "  'publish_date': 'Tue, 07 Oct 2025 12:31:43 +0200'}]"
      ]
     },
     "execution_count": 6,
     "metadata": {},
     "output_type": "execute_result"
    }
   ],
   "source": [
    "xataka_news_extractor._get_raw_parsed_data()"
   ]
  },
  {
   "cell_type": "markdown",
   "id": "00e48ad5",
   "metadata": {},
   "source": []
  },
  {
   "cell_type": "code",
   "execution_count": null,
   "id": "19781593",
   "metadata": {},
   "outputs": [],
   "source": []
  }
 ],
 "metadata": {
  "language_info": {
   "name": "python"
  }
 },
 "nbformat": 4,
 "nbformat_minor": 5
}
