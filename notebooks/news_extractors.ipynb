{
 "cells": [
  {
   "cell_type": "markdown",
   "id": "1a20b991",
   "metadata": {},
   "source": [
    "## News Extractors\n",
    "\n",
    "This notebook is to test the NewsExtractor class created to retrieve news based on an specific feed_url, which is the url that contains a list of news"
   ]
  },
  {
   "cell_type": "code",
   "execution_count": 1,
   "id": "582f1489",
   "metadata": {},
   "outputs": [],
   "source": [
    "import sys\n",
    "\n",
    "sys.path.append(\"..\")\n",
    "\n",
    "from ai_news_pipeline.extractors.news.news_extractors import NewsExtractor\n",
    "from ai_news_pipeline.config import AINewsConfig"
   ]
  },
  {
   "cell_type": "code",
   "execution_count": 2,
   "id": "e88cb2a6",
   "metadata": {},
   "outputs": [],
   "source": [
    "news_config = AINewsConfig()"
   ]
  },
  {
   "cell_type": "markdown",
   "id": "5d1d7bde",
   "metadata": {},
   "source": [
    "#### Instance a NewsExtractor class, which will retrieve the articles/news from an specific feed url\n",
    "\n",
    "The NewsExtractor automatically chooses an ImageExtractor class based on the feed_url"
   ]
  },
  {
   "cell_type": "code",
   "execution_count": 3,
   "id": "3f23a3fd",
   "metadata": {},
   "outputs": [
    {
     "name": "stderr",
     "output_type": "stream",
     "text": [
      "\u001b[32m2025-10-08 02:08:47.321\u001b[0m | \u001b[1mINFO    \u001b[0m | \u001b[36mai_news_pipeline.extractors.image_url.extractor_selector\u001b[0m:\u001b[36mget_extractor\u001b[0m:\u001b[36m73\u001b[0m - \u001b[1mExtractor 'AINEWSImageExtractor' selected for base URL: https://www.artificialintelligence-news.com\u001b[0m\n"
     ]
    }
   ],
   "source": [
    "ai_news_extractor = NewsExtractor(feed_url=news_config.AI_NEWS_FEED_URL)"
   ]
  },
  {
   "cell_type": "markdown",
   "id": "beea5678",
   "metadata": {},
   "source": [
    "## Get the raw parsed data from the Feed URL"
   ]
  },
  {
   "cell_type": "code",
   "execution_count": 4,
   "id": "28b416aa",
   "metadata": {},
   "outputs": [],
   "source": [
    "ainews_articles = ai_news_extractor._get_raw_parsed_data()"
   ]
  },
  {
   "cell_type": "code",
   "execution_count": null,
   "id": "2abc088f",
   "metadata": {},
   "outputs": [
    {
     "name": "stdout",
     "output_type": "stream",
     "text": [
      "12 articles  obtained...\n"
     ]
    },
    {
     "data": {
      "text/plain": [
       "[{'title': 'How AI is changing the way we travel',\n",
       "  'news_link': 'https://www.artificialintelligence-news.com/news/how-ai-is-changing-the-way-we-travel/',\n",
       "  'image_link': 'https://www.artificialintelligence-news.com/wp-content/uploads/2025/10/From-inspiration-to-itinerary_How-AI-is-rewriting-travel-1024x683.jpg',\n",
       "  'publish_date': 'Tue, 07 Oct 2025 11:00:00 +0000'},\n",
       " {'title': '5 best AI observability tools in 2025',\n",
       "  'news_link': 'https://www.artificialintelligence-news.com/news/5-best-ai-observability-tools-in-2025/',\n",
       "  'image_link': 'https://www.artificialintelligence-news.com/wp-content/uploads/2025/10/igor-omilaev-IsYT5rUuVcs-unsplash-1-1024x576.jpg',\n",
       "  'publish_date': 'Mon, 06 Oct 2025 14:00:42 +0000'},\n",
       " {'title': 'Google’s new AI agent rewrites code to automate vulnerability fixes',\n",
       "  'news_link': 'https://www.artificialintelligence-news.com/news/google-new-ai-agent-rewrites-code-automate-vulnerability-fixes/',\n",
       "  'image_link': 'https://www.artificialintelligence-news.com/wp-content/uploads/2025/10/google-ai-agent-fix-code-cybersecurity-infosec-security-coding-programming-software-development-artificial-intelligence-1024x768.jpg',\n",
       "  'publish_date': 'Mon, 06 Oct 2025 13:56:40 +0000'},\n",
       " {'title': 'China Mobile Shanghai launches industry-first 5G-A network monetisation strategy with Huawei',\n",
       "  'news_link': 'https://www.artificialintelligence-news.com/news/5g-a-shanghai-huawei-network-monetization-football/',\n",
       "  'image_link': 'https://www.artificialintelligence-news.com/wp-content/uploads/2025/10/a92e94de-ee49-450d-93f4-e7507d176e0f.jpg.1200.800-1024x683.jpg',\n",
       "  'publish_date': 'Fri, 03 Oct 2025 09:00:00 +0000'},\n",
       " {'title': 'AI causes reduction in users’ brain activity – MIT',\n",
       "  'news_link': 'https://www.artificialintelligence-news.com/news/ai-causes-reduction-in-users-brain-activity-mit/',\n",
       "  'image_link': 'https://www.artificialintelligence-news.com/wp-content/uploads/2025/10/ai-cognitive-hero-1024x683.jpg',\n",
       "  'publish_date': 'Wed, 01 Oct 2025 13:44:30 +0000'}]"
      ]
     },
     "execution_count": 5,
     "metadata": {},
     "output_type": "execute_result"
    }
   ],
   "source": [
    "n_aiarticles = len(ainews_articles)\n",
    "print(f\"{n_aiarticles} articles  obtained...\")\n",
    "ainews_articles[:min(n_aiarticles, 5)]"
   ]
  },
  {
   "cell_type": "markdown",
   "id": "445f35f2",
   "metadata": {},
   "source": [
    "If the feed_url does not contains an image extractor class suited for it, it will retrieve only the available data\n",
    "\n",
    "This is because the image is extracted directly from the HTML of the webpage, and each one has a different structure with different components"
   ]
  },
  {
   "cell_type": "code",
   "execution_count": 6,
   "id": "d7b32a04",
   "metadata": {},
   "outputs": [
    {
     "name": "stderr",
     "output_type": "stream",
     "text": [
      "\u001b[32m2025-10-08 02:09:05.304\u001b[0m | \u001b[33m\u001b[1mWARNING \u001b[0m | \u001b[36mai_news_pipeline.extractors.image_url.extractor_selector\u001b[0m:\u001b[36mget_extractor\u001b[0m:\u001b[36m68\u001b[0m - \u001b[33m\u001b[1mNo image extractor found for the url: https://www.xataka.com/feedburner.xml. The data retrieve will not contain an image_url\u001b[0m\n"
     ]
    }
   ],
   "source": [
    "# Example of feed url that does not have a specific ImageExtractor class\n",
    "xataka_feed_url = \"https://www.xataka.com/feedburner.xml\"\n",
    "\n",
    "xataka_news_extractor = NewsExtractor(feed_url = xataka_feed_url)"
   ]
  },
  {
   "cell_type": "code",
   "execution_count": 7,
   "id": "bd90ceaa",
   "metadata": {},
   "outputs": [],
   "source": [
    "xataka_articles = xataka_news_extractor._get_raw_parsed_data()"
   ]
  },
  {
   "cell_type": "code",
   "execution_count": null,
   "id": "c731e408",
   "metadata": {},
   "outputs": [
    {
     "name": "stdout",
     "output_type": "stream",
     "text": [
      "26 articles obtained...\n"
     ]
    },
    {
     "data": {
      "text/plain": [
       "[{'title': 'Las redes sociales comenzaron a morir en 2022 y nadie se dio cuenta. La nueva pesadilla es que resurjan llenas de AI Slop',\n",
       "  'news_link': 'https://www.xataka.com/servicios/redes-sociales-comenzaron-a-morir-2022-nadie-se-dio-cuenta-nueva-pesadilla-que-resurjan-llenas-ai-slop',\n",
       "  'image_link': '',\n",
       "  'publish_date': 'Wed, 08 Oct 2025 10:01:43 +0200'},\n",
       " {'title': 'A La 1 solo le quedaba por ganar la batalla de las mañanas. Lo ha conseguido como con todo lo demás: politizando sus contenidos',\n",
       "  'news_link': 'https://www.xataka.com/cine-y-tv/a-1-solo-le-quedaba-ganar-batalla-mananas-ha-conseguido-como-todo-demas-politizando-sus-contenidos',\n",
       "  'image_link': '',\n",
       "  'publish_date': 'Wed, 08 Oct 2025 09:31:43 +0200'},\n",
       " {'title': 'Detrás del Nobel de Medicina de este año hay toda una lección de política científica para España y no parece que la vayamos a aprender',\n",
       "  'news_link': 'https://www.xataka.com/investigacion/detras-nobel-medicina-este-ano-hay-toda-leccion-politica-cientifica-para-espana-no-parece-que-vayamos-a-aprender',\n",
       "  'image_link': '',\n",
       "  'publish_date': 'Wed, 08 Oct 2025 09:01:43 +0200'},\n",
       " {'title': 'El BOE confirma que en 2026 las nóminas de los trabajadores se recortarán hasta en 95 euros por un buen motivo: las pensiones',\n",
       "  'news_link': 'https://www.xataka.com/empresas-y-economia/boe-confirma-que-2026-nominas-se-recortaran-95-euros-motivo-pensiones',\n",
       "  'image_link': '',\n",
       "  'publish_date': 'Wed, 08 Oct 2025 08:01:43 +0200'},\n",
       " {'title': 'Cuatro letras explican por qué Tesla no ha lanzado su coche eléctrico de 25.000 euros: NSLC',\n",
       "  'news_link': 'https://www.xataka.com/movilidad/cuatro-siglas-explican-que-tesla-no-ha-lanzado-su-coche-electrico-25-000-euros-nslc',\n",
       "  'image_link': '',\n",
       "  'publish_date': 'Wed, 08 Oct 2025 07:22:10 +0200'}]"
      ]
     },
     "execution_count": 8,
     "metadata": {},
     "output_type": "execute_result"
    }
   ],
   "source": [
    "n_aiarticles = len(xataka_articles)\n",
    "print(f\"{n_aiarticles} articles obtained...\")\n",
    "xataka_articles[:min(n_aiarticles, 5)]"
   ]
  },
  {
   "cell_type": "markdown",
   "id": "00e48ad5",
   "metadata": {},
   "source": [
    "## Filter the data based on keywords\n",
    "\n",
    "This keywords can be set in the main"
   ]
  },
  {
   "cell_type": "code",
   "execution_count": 12,
   "id": "19781593",
   "metadata": {},
   "outputs": [
    {
     "name": "stderr",
     "output_type": "stream",
     "text": [
      "\u001b[32m2025-10-08 02:10:47.305\u001b[0m | \u001b[1mINFO    \u001b[0m | \u001b[36mai_news_pipeline.extractors.news.news_extractors\u001b[0m:\u001b[36m_filter_by_keywords\u001b[0m:\u001b[36m118\u001b[0m - \u001b[1mFiltering by the next parameters...\u001b[0m\n",
      "\u001b[32m2025-10-08 02:10:47.306\u001b[0m | \u001b[1mINFO    \u001b[0m | \u001b[36mai_news_pipeline.extractors.news.news_extractors\u001b[0m:\u001b[36m_filter_by_keywords\u001b[0m:\u001b[36m119\u001b[0m - \u001b[1mfilter_key = 'title'\u001b[0m\n",
      "\u001b[32m2025-10-08 02:10:47.306\u001b[0m | \u001b[1mINFO    \u001b[0m | \u001b[36mai_news_pipeline.extractors.news.news_extractors\u001b[0m:\u001b[36m_filter_by_keywords\u001b[0m:\u001b[36m120\u001b[0m - \u001b[1mcase_sen_search_kw =[' AI ', 'AI ', 'AI ', 'A.I.', ' AI-', 'AI-']\u001b[0m\n",
      "\u001b[32m2025-10-08 02:10:47.307\u001b[0m | \u001b[1mINFO    \u001b[0m | \u001b[36mai_news_pipeline.extractors.news.news_extractors\u001b[0m:\u001b[36m_filter_by_keywords\u001b[0m:\u001b[36m121\u001b[0m - \u001b[1mcase_insen_search_kw =['Artificial Intelligence', 'Machine Learning', 'Deep Learning', 'Neural Networks', 'NLP', 'Computer Vision', 'Data Science', 'Gemini', 'Bard', 'ChatGPT', 'GPT-4', 'DALL-E', 'MidJourney', 'Stable Diffusion', 'Claude', 'LLaMA', 'Whisper']\u001b[0m\n"
     ]
    }
   ],
   "source": [
    "filtered_news = ai_news_extractor._filter_by_keywords(xataka_articles)"
   ]
  },
  {
   "cell_type": "code",
   "execution_count": 14,
   "id": "ac4c0ef5",
   "metadata": {},
   "outputs": [
    {
     "name": "stdout",
     "output_type": "stream",
     "text": [
      "2 articles obtained...\n"
     ]
    },
    {
     "data": {
      "text/plain": [
       "[{'title': 'Las redes sociales comenzaron a morir en 2022 y nadie se dio cuenta. La nueva pesadilla es que resurjan llenas de AI Slop',\n",
       "  'news_link': 'https://www.xataka.com/servicios/redes-sociales-comenzaron-a-morir-2022-nadie-se-dio-cuenta-nueva-pesadilla-que-resurjan-llenas-ai-slop',\n",
       "  'image_link': '',\n",
       "  'publish_date': 'Wed, 08 Oct 2025 10:01:43 +0200'},\n",
       " {'title': 'AEMET acaba de bautizar a su primera DANA y se llama Alice: por qué este nombre lo cambia todo en las alertas meteorológicas',\n",
       "  'news_link': 'https://www.xataka.com/ecologia-y-naturaleza/se-acabo-hablar-gota-fria-aemet-tiene-lista-nombres-para-danas-que-realmente-deben-preocuparnos',\n",
       "  'image_link': '',\n",
       "  'publish_date': 'Tue, 07 Oct 2025 21:01:43 +0200'}]"
      ]
     },
     "execution_count": 14,
     "metadata": {},
     "output_type": "execute_result"
    }
   ],
   "source": [
    "n_aiarticles = len(filtered_news)\n",
    "print(f\"{n_aiarticles} articles obtained...\")\n",
    "filtered_news[:min(n_aiarticles, 5)]"
   ]
  },
  {
   "cell_type": "code",
   "execution_count": null,
   "id": "e89c4eb7",
   "metadata": {},
   "outputs": [],
   "source": []
  }
 ],
 "metadata": {
  "language_info": {
   "name": "python"
  }
 },
 "nbformat": 4,
 "nbformat_minor": 5
}
